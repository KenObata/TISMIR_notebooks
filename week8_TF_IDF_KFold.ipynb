{
  "cells": [
    {
      "cell_type": "markdown",
      "metadata": {
        "id": "view-in-github",
        "colab_type": "text"
      },
      "source": [
        "<a href=\"https://colab.research.google.com/github/KenObata/TISMIR_notebooks/blob/main/week8_TF_IDF_KFold.ipynb\" target=\"_parent\"><img src=\"https://colab.research.google.com/assets/colab-badge.svg\" alt=\"Open In Colab\"/></a>"
      ]
    },
    {
      "cell_type": "markdown",
      "metadata": {
        "id": "ZS8WVxEoWZG0"
      },
      "source": [
        "## Week8: This notebook is to get baseline model of TF-IDF.\n",
        "\n",
        "Situation: English only (=multi-class) genre detection using SMOTE.\n",
        "Split: StratifiedKfold.\n"
      ]
    },
    {
      "cell_type": "markdown",
      "metadata": {
        "id": "DWL5DlwVTHgV"
      },
      "source": [
        "### set up"
      ]
    },
    {
      "cell_type": "code",
      "execution_count": null,
      "metadata": {
        "colab": {
          "base_uri": "https://localhost:8080/"
        },
        "id": "Z8Fdw4QzS4FD",
        "outputId": "5adbd5bd-b61b-4ed7-e9ae-92dfb2137da9"
      },
      "outputs": [
        {
          "output_type": "stream",
          "name": "stdout",
          "text": [
            "Looking in indexes: https://pypi.org/simple, https://us-python.pkg.dev/colab-wheels/public/simple/\n",
            "Requirement already satisfied: scikit-multilearn in /usr/local/lib/python3.7/dist-packages (0.2.0)\n"
          ]
        }
      ],
      "source": [
        "!pip3 install scikit-multilearn"
      ]
    },
    {
      "cell_type": "code",
      "execution_count": null,
      "metadata": {
        "id": "1d5F3EmWPVWZ"
      },
      "outputs": [],
      "source": [
        "import os\n",
        "import sys\n",
        "import numpy as np\n",
        "import pandas as pd\n",
        "import matplotlib\n",
        "import matplotlib.pyplot as plt\n",
        "import sklearn\n",
        "from collections import Counter\n",
        "\n",
        "from skmultilearn.model_selection import IterativeStratification   \n",
        "from sklearn.model_selection import StratifiedKFold\n",
        "from scipy.sparse import csr_matrix"
      ]
    },
    {
      "cell_type": "code",
      "execution_count": null,
      "metadata": {
        "id": "K6VTlTxg8JVQ"
      },
      "outputs": [],
      "source": [
        "from sklearn.metrics import classification_report, confusion_matrix\n",
        "from sklearn.metrics import balanced_accuracy_score\n",
        "DIR = '/content/drive/MyDrive/music4all/'\n",
        "def get_balanced_accuracy(model, McNemar, is_fine_tuning, drop_out_rate,learning_rate_transfer_learning, learning_rate_fine_tuning):\n",
        "  test_y = test.map(map_func_only_y)\n",
        "  y_category=np.zeros((TEST_SIZE, ))\n",
        "  counter=0\n",
        "  for label_tensor in test_y.take(len(test_y)):\n",
        "    y_test = np.argmax(label_tensor, axis=1)\n",
        "    for label in y_test:\n",
        "      y_category[counter]=label\n",
        "      counter+=1\n",
        "\n",
        "  X_test, y_test = test.map(map_func_only_X), y_category\n",
        "  y_predict_test = np.asarray(model.predict(X_test))\n",
        "  y_predict_test = np.argmax(y_predict_test, axis=1)\n",
        "  print(classification_report(y_test, y_predict_test) )\n",
        "  print(balanced_accuracy_score(y_test, y_predict_test))\n",
        "\n",
        "  McNemar[(is_fine_tuning, drop_out_rate,learning_rate_transfer_learning, learning_rate_fine_tuning)] = []\n",
        "  for ground_truh, pred in zip(y_test, y_predict_test):\n",
        "        if ground_truh==pred:\n",
        "          McNemar[(is_fine_tuning, drop_out_rate,learning_rate_transfer_learning, learning_rate_fine_tuning)].append(True)\n",
        "        else:\n",
        "          McNemar[(is_fine_tuning, drop_out_rate,learning_rate_transfer_learning, learning_rate_fine_tuning)].append(False)\n",
        "  with open(DIR+ \"ALBERT_large_log.txt\", \"a\") as f:\n",
        "    print(\"======================================\", file=f)\n",
        "    print(\"is_fine_tuning?:\", is_fine_tuning, \"drop_out_rate: \", drop_out_rate, \"learning_rate_transfer_learning: \", learning_rate_transfer_learning,\n",
        "          \"learning_rate_fine_tuning: \", learning_rate_fine_tuning, file=f)\n",
        "    print(classification_report(y_test, y_predict_test) , file=f)\n",
        "    print(balanced_accuracy_score(y_test, y_predict_test), file=f)\n",
        "\n",
        "  return balanced_accuracy_score(y_test, y_predict_test), McNemar"
      ]
    },
    {
      "cell_type": "markdown",
      "metadata": {
        "id": "p7sfTnaDr-Rt"
      },
      "source": [
        "### Data Preparation(Kfold split)"
      ]
    },
    {
      "cell_type": "markdown",
      "metadata": {
        "id": "qbT7Qs4whnTX"
      },
      "source": [
        "Create dataframe for Gensim"
      ]
    },
    {
      "cell_type": "code",
      "execution_count": null,
      "metadata": {
        "colab": {
          "base_uri": "https://localhost:8080/"
        },
        "id": "Le3tiKjOOp19",
        "outputId": "f1842304-98d4-42ce-adec-c609aad2585c"
      },
      "outputs": [
        {
          "output_type": "execute_result",
          "data": {
            "text/plain": [
              "       Unnamed: 0                id             genres lang  \\\n",
              "0               0  0009fFIM1eYThaPg                pop   en   \n",
              "1               1  00P2bHdWFkghmDqz               soul   en   \n",
              "2               2  00b6fV3nx5z2b8Ls                pop   en   \n",
              "3               3  013QDoTqbexEwkHr                pop   en   \n",
              "4               4  01EKNot8qVgZpKM7               rock   en   \n",
              "...           ...               ...                ...  ...   \n",
              "13535       13535  zzT504Z94j1IAuc3         indie rock   en   \n",
              "13536       13536  zzgS4ZqyswamEWNj                pop   en   \n",
              "13537       13537  zzx8CWdM7qkxKQpC         indie rock   en   \n",
              "13538       13538  zzz0n04uuTUA7fNh                pop   en   \n",
              "13539       13539  zzzj3LYaZtYtbzSr  singer-songwriter   en   \n",
              "\n",
              "                                                   lyric  number_of_line  \n",
              "0      a sunny day so I got nowhere to hide Not a clo...              91  \n",
              "1      Tell me a tale that always was Sing me a song ...              36  \n",
              "2      A buh A buh You went to school to learn girl T...              74  \n",
              "3      like a conversation where stops to breathe Is ...              20  \n",
              "4      Say the words I cannot say Say them on another...              31  \n",
              "...                                                  ...             ...  \n",
              "13535  think what afraid of come in you know been mad...              18  \n",
              "13536  Oh yeah yeah Last night I took a walk in the s...              75  \n",
              "13537  Innocence it come easy in a sense it never wil...              34  \n",
              "13538  Girl you know how I feel I really Since you be...              65  \n",
              "13539  wwI oh must go on standing You break that whic...              64  \n",
              "\n",
              "[13540 rows x 6 columns]"
            ],
            "text/html": [
              "\n",
              "  <div id=\"df-8724cd42-8b44-4527-84ad-3ff960ab5ad8\">\n",
              "    <div class=\"colab-df-container\">\n",
              "      <div>\n",
              "<style scoped>\n",
              "    .dataframe tbody tr th:only-of-type {\n",
              "        vertical-align: middle;\n",
              "    }\n",
              "\n",
              "    .dataframe tbody tr th {\n",
              "        vertical-align: top;\n",
              "    }\n",
              "\n",
              "    .dataframe thead th {\n",
              "        text-align: right;\n",
              "    }\n",
              "</style>\n",
              "<table border=\"1\" class=\"dataframe\">\n",
              "  <thead>\n",
              "    <tr style=\"text-align: right;\">\n",
              "      <th></th>\n",
              "      <th>Unnamed: 0</th>\n",
              "      <th>id</th>\n",
              "      <th>genres</th>\n",
              "      <th>lang</th>\n",
              "      <th>lyric</th>\n",
              "      <th>number_of_line</th>\n",
              "    </tr>\n",
              "  </thead>\n",
              "  <tbody>\n",
              "    <tr>\n",
              "      <th>0</th>\n",
              "      <td>0</td>\n",
              "      <td>0009fFIM1eYThaPg</td>\n",
              "      <td>pop</td>\n",
              "      <td>en</td>\n",
              "      <td>a sunny day so I got nowhere to hide Not a clo...</td>\n",
              "      <td>91</td>\n",
              "    </tr>\n",
              "    <tr>\n",
              "      <th>1</th>\n",
              "      <td>1</td>\n",
              "      <td>00P2bHdWFkghmDqz</td>\n",
              "      <td>soul</td>\n",
              "      <td>en</td>\n",
              "      <td>Tell me a tale that always was Sing me a song ...</td>\n",
              "      <td>36</td>\n",
              "    </tr>\n",
              "    <tr>\n",
              "      <th>2</th>\n",
              "      <td>2</td>\n",
              "      <td>00b6fV3nx5z2b8Ls</td>\n",
              "      <td>pop</td>\n",
              "      <td>en</td>\n",
              "      <td>A buh A buh You went to school to learn girl T...</td>\n",
              "      <td>74</td>\n",
              "    </tr>\n",
              "    <tr>\n",
              "      <th>3</th>\n",
              "      <td>3</td>\n",
              "      <td>013QDoTqbexEwkHr</td>\n",
              "      <td>pop</td>\n",
              "      <td>en</td>\n",
              "      <td>like a conversation where stops to breathe Is ...</td>\n",
              "      <td>20</td>\n",
              "    </tr>\n",
              "    <tr>\n",
              "      <th>4</th>\n",
              "      <td>4</td>\n",
              "      <td>01EKNot8qVgZpKM7</td>\n",
              "      <td>rock</td>\n",
              "      <td>en</td>\n",
              "      <td>Say the words I cannot say Say them on another...</td>\n",
              "      <td>31</td>\n",
              "    </tr>\n",
              "    <tr>\n",
              "      <th>...</th>\n",
              "      <td>...</td>\n",
              "      <td>...</td>\n",
              "      <td>...</td>\n",
              "      <td>...</td>\n",
              "      <td>...</td>\n",
              "      <td>...</td>\n",
              "    </tr>\n",
              "    <tr>\n",
              "      <th>13535</th>\n",
              "      <td>13535</td>\n",
              "      <td>zzT504Z94j1IAuc3</td>\n",
              "      <td>indie rock</td>\n",
              "      <td>en</td>\n",
              "      <td>think what afraid of come in you know been mad...</td>\n",
              "      <td>18</td>\n",
              "    </tr>\n",
              "    <tr>\n",
              "      <th>13536</th>\n",
              "      <td>13536</td>\n",
              "      <td>zzgS4ZqyswamEWNj</td>\n",
              "      <td>pop</td>\n",
              "      <td>en</td>\n",
              "      <td>Oh yeah yeah Last night I took a walk in the s...</td>\n",
              "      <td>75</td>\n",
              "    </tr>\n",
              "    <tr>\n",
              "      <th>13537</th>\n",
              "      <td>13537</td>\n",
              "      <td>zzx8CWdM7qkxKQpC</td>\n",
              "      <td>indie rock</td>\n",
              "      <td>en</td>\n",
              "      <td>Innocence it come easy in a sense it never wil...</td>\n",
              "      <td>34</td>\n",
              "    </tr>\n",
              "    <tr>\n",
              "      <th>13538</th>\n",
              "      <td>13538</td>\n",
              "      <td>zzz0n04uuTUA7fNh</td>\n",
              "      <td>pop</td>\n",
              "      <td>en</td>\n",
              "      <td>Girl you know how I feel I really Since you be...</td>\n",
              "      <td>65</td>\n",
              "    </tr>\n",
              "    <tr>\n",
              "      <th>13539</th>\n",
              "      <td>13539</td>\n",
              "      <td>zzzj3LYaZtYtbzSr</td>\n",
              "      <td>singer-songwriter</td>\n",
              "      <td>en</td>\n",
              "      <td>wwI oh must go on standing You break that whic...</td>\n",
              "      <td>64</td>\n",
              "    </tr>\n",
              "  </tbody>\n",
              "</table>\n",
              "<p>13540 rows × 6 columns</p>\n",
              "</div>\n",
              "      <button class=\"colab-df-convert\" onclick=\"convertToInteractive('df-8724cd42-8b44-4527-84ad-3ff960ab5ad8')\"\n",
              "              title=\"Convert this dataframe to an interactive table.\"\n",
              "              style=\"display:none;\">\n",
              "        \n",
              "  <svg xmlns=\"http://www.w3.org/2000/svg\" height=\"24px\"viewBox=\"0 0 24 24\"\n",
              "       width=\"24px\">\n",
              "    <path d=\"M0 0h24v24H0V0z\" fill=\"none\"/>\n",
              "    <path d=\"M18.56 5.44l.94 2.06.94-2.06 2.06-.94-2.06-.94-.94-2.06-.94 2.06-2.06.94zm-11 1L8.5 8.5l.94-2.06 2.06-.94-2.06-.94L8.5 2.5l-.94 2.06-2.06.94zm10 10l.94 2.06.94-2.06 2.06-.94-2.06-.94-.94-2.06-.94 2.06-2.06.94z\"/><path d=\"M17.41 7.96l-1.37-1.37c-.4-.4-.92-.59-1.43-.59-.52 0-1.04.2-1.43.59L10.3 9.45l-7.72 7.72c-.78.78-.78 2.05 0 2.83L4 21.41c.39.39.9.59 1.41.59.51 0 1.02-.2 1.41-.59l7.78-7.78 2.81-2.81c.8-.78.8-2.07 0-2.86zM5.41 20L4 18.59l7.72-7.72 1.47 1.35L5.41 20z\"/>\n",
              "  </svg>\n",
              "      </button>\n",
              "      \n",
              "  <style>\n",
              "    .colab-df-container {\n",
              "      display:flex;\n",
              "      flex-wrap:wrap;\n",
              "      gap: 12px;\n",
              "    }\n",
              "\n",
              "    .colab-df-convert {\n",
              "      background-color: #E8F0FE;\n",
              "      border: none;\n",
              "      border-radius: 50%;\n",
              "      cursor: pointer;\n",
              "      display: none;\n",
              "      fill: #1967D2;\n",
              "      height: 32px;\n",
              "      padding: 0 0 0 0;\n",
              "      width: 32px;\n",
              "    }\n",
              "\n",
              "    .colab-df-convert:hover {\n",
              "      background-color: #E2EBFA;\n",
              "      box-shadow: 0px 1px 2px rgba(60, 64, 67, 0.3), 0px 1px 3px 1px rgba(60, 64, 67, 0.15);\n",
              "      fill: #174EA6;\n",
              "    }\n",
              "\n",
              "    [theme=dark] .colab-df-convert {\n",
              "      background-color: #3B4455;\n",
              "      fill: #D2E3FC;\n",
              "    }\n",
              "\n",
              "    [theme=dark] .colab-df-convert:hover {\n",
              "      background-color: #434B5C;\n",
              "      box-shadow: 0px 1px 3px 1px rgba(0, 0, 0, 0.15);\n",
              "      filter: drop-shadow(0px 1px 2px rgba(0, 0, 0, 0.3));\n",
              "      fill: #FFFFFF;\n",
              "    }\n",
              "  </style>\n",
              "\n",
              "      <script>\n",
              "        const buttonEl =\n",
              "          document.querySelector('#df-8724cd42-8b44-4527-84ad-3ff960ab5ad8 button.colab-df-convert');\n",
              "        buttonEl.style.display =\n",
              "          google.colab.kernel.accessAllowed ? 'block' : 'none';\n",
              "\n",
              "        async function convertToInteractive(key) {\n",
              "          const element = document.querySelector('#df-8724cd42-8b44-4527-84ad-3ff960ab5ad8');\n",
              "          const dataTable =\n",
              "            await google.colab.kernel.invokeFunction('convertToInteractive',\n",
              "                                                     [key], {});\n",
              "          if (!dataTable) return;\n",
              "\n",
              "          const docLinkHtml = 'Like what you see? Visit the ' +\n",
              "            '<a target=\"_blank\" href=https://colab.research.google.com/notebooks/data_table.ipynb>data table notebook</a>'\n",
              "            + ' to learn more about interactive tables.';\n",
              "          element.innerHTML = '';\n",
              "          dataTable['output_type'] = 'display_data';\n",
              "          await google.colab.output.renderOutput(dataTable, element);\n",
              "          const docLink = document.createElement('div');\n",
              "          docLink.innerHTML = docLinkHtml;\n",
              "          element.appendChild(docLink);\n",
              "        }\n",
              "      </script>\n",
              "    </div>\n",
              "  </div>\n",
              "  "
            ]
          },
          "metadata": {},
          "execution_count": 4
        }
      ],
      "source": [
        "import pandas as pd\n",
        "\n",
        "DIR = '/content/drive/MyDrive/music4all/'\n",
        "df_genre_by_lang = pd.read_csv(DIR + 'df_genre_by_lang_full.csv')\n",
        "df_genre_by_lang"
      ]
    },
    {
      "cell_type": "code",
      "execution_count": null,
      "metadata": {
        "id": "PrRidTBHhmYp"
      },
      "outputs": [],
      "source": [
        "def load_data(df_col, y):\n",
        "    texts, labels = [], []\n",
        "    \n",
        "    for line in df_col:\n",
        "        # texts are already tokenized, just split on space\n",
        "        # in a real use-case we would put more effort in preprocessing\n",
        "        texts.append(line.split(' '))\n",
        "    return pd.DataFrame({'texts': texts, 'labels': y})"
      ]
    },
    {
      "cell_type": "code",
      "execution_count": null,
      "metadata": {
        "id": "n5VJWiA6iJu2"
      },
      "outputs": [],
      "source": [
        "data = load_data(df_genre_by_lang[\"lyric\"], df_genre_by_lang[\"genres\"])"
      ]
    },
    {
      "cell_type": "code",
      "execution_count": null,
      "metadata": {
        "colab": {
          "base_uri": "https://localhost:8080/"
        },
        "id": "bWI4V7oXiWw6",
        "outputId": "b4e7125a-d8e0-4ffe-dc41-311d8b0c231f"
      },
      "outputs": [
        {
          "output_type": "execute_result",
          "data": {
            "text/plain": [
              "                                                   texts             labels\n",
              "0      [a, sunny, day, so, I, got, nowhere, to, hide,...                pop\n",
              "1      [Tell, me, a, tale, that, always, was, Sing, m...               soul\n",
              "2      [A, buh, A, buh, You, went, to, school, to, le...                pop\n",
              "3      [like, a, conversation, where, stops, to, brea...                pop\n",
              "4      [Say, the, words, I, cannot, say, Say, them, o...               rock\n",
              "...                                                  ...                ...\n",
              "13535  [think, what, afraid, of, come, in, you, know,...         indie rock\n",
              "13536  [Oh, yeah, yeah, Last, night, I, took, a, walk...                pop\n",
              "13537  [Innocence, it, come, easy, in, a, sense, it, ...         indie rock\n",
              "13538  [Girl, you, know, how, I, feel, I, really, Sin...                pop\n",
              "13539  [wwI, oh, must, go, on, standing, You, break, ...  singer-songwriter\n",
              "\n",
              "[13540 rows x 2 columns]"
            ],
            "text/html": [
              "\n",
              "  <div id=\"df-62f0d82d-40cd-4a1a-b05d-51ef896d6ba7\">\n",
              "    <div class=\"colab-df-container\">\n",
              "      <div>\n",
              "<style scoped>\n",
              "    .dataframe tbody tr th:only-of-type {\n",
              "        vertical-align: middle;\n",
              "    }\n",
              "\n",
              "    .dataframe tbody tr th {\n",
              "        vertical-align: top;\n",
              "    }\n",
              "\n",
              "    .dataframe thead th {\n",
              "        text-align: right;\n",
              "    }\n",
              "</style>\n",
              "<table border=\"1\" class=\"dataframe\">\n",
              "  <thead>\n",
              "    <tr style=\"text-align: right;\">\n",
              "      <th></th>\n",
              "      <th>texts</th>\n",
              "      <th>labels</th>\n",
              "    </tr>\n",
              "  </thead>\n",
              "  <tbody>\n",
              "    <tr>\n",
              "      <th>0</th>\n",
              "      <td>[a, sunny, day, so, I, got, nowhere, to, hide,...</td>\n",
              "      <td>pop</td>\n",
              "    </tr>\n",
              "    <tr>\n",
              "      <th>1</th>\n",
              "      <td>[Tell, me, a, tale, that, always, was, Sing, m...</td>\n",
              "      <td>soul</td>\n",
              "    </tr>\n",
              "    <tr>\n",
              "      <th>2</th>\n",
              "      <td>[A, buh, A, buh, You, went, to, school, to, le...</td>\n",
              "      <td>pop</td>\n",
              "    </tr>\n",
              "    <tr>\n",
              "      <th>3</th>\n",
              "      <td>[like, a, conversation, where, stops, to, brea...</td>\n",
              "      <td>pop</td>\n",
              "    </tr>\n",
              "    <tr>\n",
              "      <th>4</th>\n",
              "      <td>[Say, the, words, I, cannot, say, Say, them, o...</td>\n",
              "      <td>rock</td>\n",
              "    </tr>\n",
              "    <tr>\n",
              "      <th>...</th>\n",
              "      <td>...</td>\n",
              "      <td>...</td>\n",
              "    </tr>\n",
              "    <tr>\n",
              "      <th>13535</th>\n",
              "      <td>[think, what, afraid, of, come, in, you, know,...</td>\n",
              "      <td>indie rock</td>\n",
              "    </tr>\n",
              "    <tr>\n",
              "      <th>13536</th>\n",
              "      <td>[Oh, yeah, yeah, Last, night, I, took, a, walk...</td>\n",
              "      <td>pop</td>\n",
              "    </tr>\n",
              "    <tr>\n",
              "      <th>13537</th>\n",
              "      <td>[Innocence, it, come, easy, in, a, sense, it, ...</td>\n",
              "      <td>indie rock</td>\n",
              "    </tr>\n",
              "    <tr>\n",
              "      <th>13538</th>\n",
              "      <td>[Girl, you, know, how, I, feel, I, really, Sin...</td>\n",
              "      <td>pop</td>\n",
              "    </tr>\n",
              "    <tr>\n",
              "      <th>13539</th>\n",
              "      <td>[wwI, oh, must, go, on, standing, You, break, ...</td>\n",
              "      <td>singer-songwriter</td>\n",
              "    </tr>\n",
              "  </tbody>\n",
              "</table>\n",
              "<p>13540 rows × 2 columns</p>\n",
              "</div>\n",
              "      <button class=\"colab-df-convert\" onclick=\"convertToInteractive('df-62f0d82d-40cd-4a1a-b05d-51ef896d6ba7')\"\n",
              "              title=\"Convert this dataframe to an interactive table.\"\n",
              "              style=\"display:none;\">\n",
              "        \n",
              "  <svg xmlns=\"http://www.w3.org/2000/svg\" height=\"24px\"viewBox=\"0 0 24 24\"\n",
              "       width=\"24px\">\n",
              "    <path d=\"M0 0h24v24H0V0z\" fill=\"none\"/>\n",
              "    <path d=\"M18.56 5.44l.94 2.06.94-2.06 2.06-.94-2.06-.94-.94-2.06-.94 2.06-2.06.94zm-11 1L8.5 8.5l.94-2.06 2.06-.94-2.06-.94L8.5 2.5l-.94 2.06-2.06.94zm10 10l.94 2.06.94-2.06 2.06-.94-2.06-.94-.94-2.06-.94 2.06-2.06.94z\"/><path d=\"M17.41 7.96l-1.37-1.37c-.4-.4-.92-.59-1.43-.59-.52 0-1.04.2-1.43.59L10.3 9.45l-7.72 7.72c-.78.78-.78 2.05 0 2.83L4 21.41c.39.39.9.59 1.41.59.51 0 1.02-.2 1.41-.59l7.78-7.78 2.81-2.81c.8-.78.8-2.07 0-2.86zM5.41 20L4 18.59l7.72-7.72 1.47 1.35L5.41 20z\"/>\n",
              "  </svg>\n",
              "      </button>\n",
              "      \n",
              "  <style>\n",
              "    .colab-df-container {\n",
              "      display:flex;\n",
              "      flex-wrap:wrap;\n",
              "      gap: 12px;\n",
              "    }\n",
              "\n",
              "    .colab-df-convert {\n",
              "      background-color: #E8F0FE;\n",
              "      border: none;\n",
              "      border-radius: 50%;\n",
              "      cursor: pointer;\n",
              "      display: none;\n",
              "      fill: #1967D2;\n",
              "      height: 32px;\n",
              "      padding: 0 0 0 0;\n",
              "      width: 32px;\n",
              "    }\n",
              "\n",
              "    .colab-df-convert:hover {\n",
              "      background-color: #E2EBFA;\n",
              "      box-shadow: 0px 1px 2px rgba(60, 64, 67, 0.3), 0px 1px 3px 1px rgba(60, 64, 67, 0.15);\n",
              "      fill: #174EA6;\n",
              "    }\n",
              "\n",
              "    [theme=dark] .colab-df-convert {\n",
              "      background-color: #3B4455;\n",
              "      fill: #D2E3FC;\n",
              "    }\n",
              "\n",
              "    [theme=dark] .colab-df-convert:hover {\n",
              "      background-color: #434B5C;\n",
              "      box-shadow: 0px 1px 3px 1px rgba(0, 0, 0, 0.15);\n",
              "      filter: drop-shadow(0px 1px 2px rgba(0, 0, 0, 0.3));\n",
              "      fill: #FFFFFF;\n",
              "    }\n",
              "  </style>\n",
              "\n",
              "      <script>\n",
              "        const buttonEl =\n",
              "          document.querySelector('#df-62f0d82d-40cd-4a1a-b05d-51ef896d6ba7 button.colab-df-convert');\n",
              "        buttonEl.style.display =\n",
              "          google.colab.kernel.accessAllowed ? 'block' : 'none';\n",
              "\n",
              "        async function convertToInteractive(key) {\n",
              "          const element = document.querySelector('#df-62f0d82d-40cd-4a1a-b05d-51ef896d6ba7');\n",
              "          const dataTable =\n",
              "            await google.colab.kernel.invokeFunction('convertToInteractive',\n",
              "                                                     [key], {});\n",
              "          if (!dataTable) return;\n",
              "\n",
              "          const docLinkHtml = 'Like what you see? Visit the ' +\n",
              "            '<a target=\"_blank\" href=https://colab.research.google.com/notebooks/data_table.ipynb>data table notebook</a>'\n",
              "            + ' to learn more about interactive tables.';\n",
              "          element.innerHTML = '';\n",
              "          dataTable['output_type'] = 'display_data';\n",
              "          await google.colab.output.renderOutput(dataTable, element);\n",
              "          const docLink = document.createElement('div');\n",
              "          docLink.innerHTML = docLinkHtml;\n",
              "          element.appendChild(docLink);\n",
              "        }\n",
              "      </script>\n",
              "    </div>\n",
              "  </div>\n",
              "  "
            ]
          },
          "metadata": {},
          "execution_count": 7
        }
      ],
      "source": [
        "data"
      ]
    },
    {
      "cell_type": "code",
      "execution_count": null,
      "metadata": {
        "id": "iTROinyfjc6u"
      },
      "outputs": [],
      "source": [
        "data['labels'] = data['labels'].astype('category')\n",
        "label_mapping = data['labels'].cat.categories\n",
        "data['labels'] = data['labels'].cat.codes\n",
        "X = data['texts']\n",
        "y = data['labels']"
      ]
    },
    {
      "cell_type": "code",
      "execution_count": null,
      "metadata": {
        "colab": {
          "base_uri": "https://localhost:8080/"
        },
        "id": "d32Ub0-kjoOj",
        "outputId": "fc384abd-afd2-4716-e4c5-45e268a24bfc"
      },
      "outputs": [
        {
          "output_type": "execute_result",
          "data": {
            "text/plain": [
              "pandas.core.series.Series"
            ]
          },
          "metadata": {},
          "execution_count": 9
        }
      ],
      "source": [
        "type(X)"
      ]
    },
    {
      "cell_type": "code",
      "execution_count": null,
      "metadata": {
        "id": "GnAEWk_Lza7f"
      },
      "outputs": [],
      "source": [
        "def StratifiedKFold_feature_and_df_glove(df, feature_list, y_name):\n",
        "  skf = StratifiedKFold(n_splits=5, shuffle=True, random_state=1209)  # 20% for test set \n",
        "  y = df[y_name]\n",
        "  skf.get_n_splits(df[ feature_list ], y)\n",
        "\n",
        "  splits = []\n",
        "\n",
        "  for train_index, test_index in skf.split(df[ feature_list ], y):\n",
        "      print(\"TRAIN:\", train_index, \"TEST:\", test_index)\n",
        "      X_train, X_test = df[ feature_list ].loc[train_index], df[ feature_list ].loc[test_index]\n",
        "      y_train, y_test = y.loc[train_index], y.loc[test_index]\n",
        "      splits.append({'X_train': X_train, 'X_test': X_test, 'y_train':y_train, 'y_test':y_test })\n",
        "  return splits"
      ]
    },
    {
      "cell_type": "code",
      "execution_count": null,
      "metadata": {
        "id": "0IMTrS8Fr-Rv"
      },
      "outputs": [],
      "source": [
        "def StratifiedKFold_feature_and_df(X, y):\n",
        "  skf = StratifiedKFold(n_splits=5, shuffle=True, random_state=1209)  # 20% for test set \n",
        "  #y = df[y_name]\n",
        "  skf.get_n_splits(X, y)#df[ feature_list ]\n",
        "\n",
        "  splits = []\n",
        "\n",
        "  for train_index, test_index in skf.split(X, y):#df[ feature_list ]\n",
        "      print(\"TRAIN:\", train_index, \"TEST:\", test_index)\n",
        "      X_train, X_test = X.loc[train_index], X.loc[test_index]\n",
        "      y_train, y_test = y.loc[train_index], y.loc[test_index]\n",
        "      splits.append({'X_train': X_train, 'X_test': X_test, 'y_train':y_train, 'y_test':y_test })\n",
        "  return splits"
      ]
    },
    {
      "cell_type": "code",
      "execution_count": null,
      "metadata": {
        "colab": {
          "base_uri": "https://localhost:8080/"
        },
        "id": "GHq2ikBEr-Rv",
        "outputId": "eac80967-d514-43b7-ec51-64421592594e"
      },
      "outputs": [
        {
          "output_type": "stream",
          "name": "stdout",
          "text": [
            "TRAIN: [    0     1     3 ... 13537 13538 13539] TEST: [    2     4     5 ... 13526 13532 13535]\n",
            "TRAIN: [    0     2     4 ... 13535 13536 13539] TEST: [    1     3     7 ... 13530 13537 13538]\n",
            "TRAIN: [    0     1     2 ... 13537 13538 13539] TEST: [    8    14    22 ... 13521 13531 13536]\n",
            "TRAIN: [    0     1     2 ... 13537 13538 13539] TEST: [   10    12    15 ... 13523 13525 13534]\n",
            "TRAIN: [    1     2     3 ... 13536 13537 13538] TEST: [    0     6    11 ... 13529 13533 13539]\n"
          ]
        }
      ],
      "source": [
        "#feature_list = [\"texts\"] #this is BOW and TF-IDF\n",
        "#splits = StratifiedKFold_feature_and_df( data, feature_list, 'labels')\n",
        "splits = StratifiedKFold_feature_and_df( X,y)"
      ]
    },
    {
      "cell_type": "code",
      "execution_count": null,
      "metadata": {
        "colab": {
          "base_uri": "https://localhost:8080/"
        },
        "id": "UsQYbmVUWPU9",
        "outputId": "aed8e645-57eb-4bd8-b3e6-883299afc8e7"
      },
      "outputs": [
        {
          "output_type": "execute_result",
          "data": {
            "text/plain": [
              "5"
            ]
          },
          "metadata": {},
          "execution_count": 13
        }
      ],
      "source": [
        "len(splits)"
      ]
    },
    {
      "cell_type": "code",
      "execution_count": null,
      "metadata": {
        "colab": {
          "base_uri": "https://localhost:8080/"
        },
        "id": "UX6dG5WJr-Rw",
        "outputId": "77a26f3f-fe14-426d-a393-b1590e22e286"
      },
      "outputs": [
        {
          "output_type": "stream",
          "name": "stdout",
          "text": [
            "(10832,)\n",
            "(10832,)\n",
            "(2708,)\n",
            "(2708,)\n"
          ]
        }
      ],
      "source": [
        "split0=splits[0]\n",
        "print(split0['X_train'].shape)\n",
        "print(split0['y_train'].shape)\n",
        "print(split0['X_test'].shape)\n",
        "print(split0['y_test'].shape)"
      ]
    },
    {
      "cell_type": "code",
      "execution_count": null,
      "metadata": {
        "colab": {
          "base_uri": "https://localhost:8080/"
        },
        "id": "iaMmpM44is_p",
        "outputId": "5da280aa-4c6a-4138-97bd-62d6ece1cc67"
      },
      "outputs": [
        {
          "output_type": "execute_result",
          "data": {
            "text/plain": [
              "0        [a, sunny, day, so, I, got, nowhere, to, hide,...\n",
              "1        [Tell, me, a, tale, that, always, was, Sing, m...\n",
              "3        [like, a, conversation, where, stops, to, brea...\n",
              "6        [Locked, up, tight, Like, I, would, never, fee...\n",
              "7        [sittin, in, the, crib, dreamin, about, leer, ...\n",
              "                               ...                        \n",
              "13534    [grandma, cookies, nigga, Shout, out, to, fron...\n",
              "13536    [Oh, yeah, yeah, Last, night, I, took, a, walk...\n",
              "13537    [Innocence, it, come, easy, in, a, sense, it, ...\n",
              "13538    [Girl, you, know, how, I, feel, I, really, Sin...\n",
              "13539    [wwI, oh, must, go, on, standing, You, break, ...\n",
              "Name: texts, Length: 10832, dtype: object"
            ]
          },
          "metadata": {},
          "execution_count": 15
        }
      ],
      "source": [
        "split0['X_train']"
      ]
    },
    {
      "cell_type": "code",
      "execution_count": null,
      "metadata": {
        "colab": {
          "base_uri": "https://localhost:8080/"
        },
        "id": "5qTuHLEe8Aqg",
        "outputId": "322125b9-c199-45e9-8b77-97b9c3593160"
      },
      "outputs": [
        {
          "output_type": "execute_result",
          "data": {
            "text/plain": [
              "0        4\n",
              "1        9\n",
              "3        4\n",
              "6        4\n",
              "7        6\n",
              "        ..\n",
              "13534    6\n",
              "13536    4\n",
              "13537    3\n",
              "13538    4\n",
              "13539    8\n",
              "Name: labels, Length: 10832, dtype: int8"
            ]
          },
          "metadata": {},
          "execution_count": 16
        }
      ],
      "source": [
        "split0['y_train']"
      ]
    },
    {
      "cell_type": "markdown",
      "metadata": {
        "id": "TZG8klxT_tga"
      },
      "source": [
        "###  Train and Test flow\n",
        "\n",
        "Step1: Kfold Stratified Split\n",
        "\n",
        "Step2: For X_train, get Bag-of-Words feature using TF-IDF.\n",
        "\n",
        "Step3: clf.fit(X_train, y_train)\n",
        "\n",
        "Step4: transform X_test['lyric'] to TF-IDF\n",
        "\n",
        "Step5: Predict by, clf_predict = clf.predict(X_test_tf-idf)\n",
        "\n",
        "Step6: Compare (clf_predict, y_test)"
      ]
    },
    {
      "cell_type": "markdown",
      "source": [
        "### Multinomial Nayve Bayes trained on TF-IDF embedding. Test KFold mean "
      ],
      "metadata": {
        "id": "53Py8-TUGoVO"
      }
    },
    {
      "cell_type": "code",
      "source": [
        "split0['X_train']"
      ],
      "metadata": {
        "colab": {
          "base_uri": "https://localhost:8080/"
        },
        "id": "_RgxTsyZHxLl",
        "outputId": "0ca70e72-342b-4193-870e-72d4df708263"
      },
      "execution_count": null,
      "outputs": [
        {
          "output_type": "execute_result",
          "data": {
            "text/plain": [
              "0        [a, sunny, day, so, I, got, nowhere, to, hide,...\n",
              "1        [Tell, me, a, tale, that, always, was, Sing, m...\n",
              "3        [like, a, conversation, where, stops, to, brea...\n",
              "6        [Locked, up, tight, Like, I, would, never, fee...\n",
              "7        [sittin, in, the, crib, dreamin, about, leer, ...\n",
              "                               ...                        \n",
              "13534    [grandma, cookies, nigga, Shout, out, to, fron...\n",
              "13536    [Oh, yeah, yeah, Last, night, I, took, a, walk...\n",
              "13537    [Innocence, it, come, easy, in, a, sense, it, ...\n",
              "13538    [Girl, you, know, how, I, feel, I, really, Sin...\n",
              "13539    [wwI, oh, must, go, on, standing, You, break, ...\n",
              "Name: texts, Length: 10832, dtype: object"
            ]
          },
          "metadata": {},
          "execution_count": 102
        }
      ]
    },
    {
      "cell_type": "code",
      "source": [
        "from sklearn.metrics import accuracy_score,classification_report\n",
        "from sklearn.feature_extraction.text import TfidfVectorizer\n",
        "from sklearn.naive_bayes import MultinomialNB\n",
        "from imblearn.over_sampling import SMOTE\n",
        "from sklearn.metrics import balanced_accuracy_score\n",
        "\n",
        "for i in range(5):\n",
        "  print(\"Split: \", i)\n",
        "  split0 = splits[i]\n",
        "  for i, token_list in split0['X_train'].items():\n",
        "    split0['X_train'][i] =  ' '.join(token_list)\n",
        "  for i, token_list in split0['X_test'].items():\n",
        "    split0['X_test'][i] =  ' '.join(token_list)\n",
        "\n",
        "  tfidf_vectorizer = TfidfVectorizer(analyzer=\"word\", stop_words='english')\n",
        "  X_train_tfidf = tfidf_vectorizer.fit_transform(split0['X_train']).toarray()\n",
        "  X_test_tfidf = tfidf_vectorizer.transform(split0['X_test']).toarray()\n",
        "\n",
        "  df_X_train_tfidf = pd.DataFrame(X_train_tfidf\n",
        "                                ,index = split0['X_train'].index\n",
        "                              , columns=tfidf_vectorizer.get_feature_names())\n",
        "  \n",
        "  X_resampled, y_resampled = SMOTE().fit_resample(df_X_train_tfidf.to_numpy(), split0['y_train']) \n",
        "  print(sorted(Counter(y_resampled).items()))\n",
        "  clf_mnb_SMOTE = MultinomialNB().fit(X_resampled, y_resampled)\n",
        "\n",
        "  predicted_mnb_SMOTE = clf_mnb_SMOTE.predict(X_test_tfidf)\n",
        "  print(classification_report(split0['y_test'], predicted_mnb_SMOTE) )\n",
        "  print(balanced_accuracy_score(split0['y_test'], predicted_mnb_SMOTE))\n",
        "\n",
        "  del(split0)\n",
        "  del(df_X_train_tfidf)\n",
        "  del(X_resampled)\n",
        "  del(y_resampled)"
      ],
      "metadata": {
        "colab": {
          "base_uri": "https://localhost:8080/"
        },
        "id": "wvzb7KdBGp3O",
        "outputId": "cffd3f8f-4d8c-48a3-db9f-16d36a9cf7d4"
      },
      "execution_count": null,
      "outputs": [
        {
          "output_type": "stream",
          "name": "stdout",
          "text": [
            "Split:  0\n"
          ]
        },
        {
          "output_type": "stream",
          "name": "stderr",
          "text": [
            "/usr/local/lib/python3.7/dist-packages/sklearn/utils/deprecation.py:87: FutureWarning: Function get_feature_names is deprecated; get_feature_names is deprecated in 1.0 and will be removed in 1.2. Please use get_feature_names_out instead.\n",
            "  warnings.warn(msg, category=FutureWarning)\n"
          ]
        },
        {
          "output_type": "stream",
          "name": "stdout",
          "text": [
            "[(0, 4143), (1, 4143), (2, 4143), (3, 4143), (4, 4143), (5, 4143), (6, 4143), (7, 4143), (8, 4143), (9, 4143)]\n",
            "              precision    recall  f1-score   support\n",
            "\n",
            "           0       0.20      0.11      0.14       190\n",
            "           1       0.17      0.33      0.22       173\n",
            "           2       0.09      0.16      0.12       135\n",
            "           3       0.25      0.17      0.20       216\n",
            "           4       0.58      0.34      0.43      1036\n",
            "           5       0.25      0.20      0.22        76\n",
            "           6       0.59      0.79      0.68       195\n",
            "           7       0.20      0.14      0.17       290\n",
            "           8       0.14      0.18      0.16       139\n",
            "           9       0.21      0.47      0.29       258\n",
            "\n",
            "    accuracy                           0.31      2708\n",
            "   macro avg       0.27      0.29      0.26      2708\n",
            "weighted avg       0.37      0.31      0.32      2708\n",
            "\n",
            "0.2882247048904138\n",
            "Split:  1\n"
          ]
        },
        {
          "output_type": "stream",
          "name": "stderr",
          "text": [
            "/usr/local/lib/python3.7/dist-packages/sklearn/utils/deprecation.py:87: FutureWarning: Function get_feature_names is deprecated; get_feature_names is deprecated in 1.0 and will be removed in 1.2. Please use get_feature_names_out instead.\n",
            "  warnings.warn(msg, category=FutureWarning)\n"
          ]
        },
        {
          "output_type": "stream",
          "name": "stdout",
          "text": [
            "[(0, 4143), (1, 4143), (2, 4143), (3, 4143), (4, 4143), (5, 4143), (6, 4143), (7, 4143), (8, 4143), (9, 4143)]\n",
            "              precision    recall  f1-score   support\n",
            "\n",
            "           0       0.25      0.08      0.13       191\n",
            "           1       0.17      0.39      0.24       173\n",
            "           2       0.08      0.11      0.09       134\n",
            "           3       0.16      0.12      0.14       216\n",
            "           4       0.60      0.32      0.42      1036\n",
            "           5       0.28      0.24      0.26        76\n",
            "           6       0.58      0.88      0.70       196\n",
            "           7       0.18      0.15      0.16       289\n",
            "           8       0.10      0.13      0.11       139\n",
            "           9       0.25      0.55      0.34       258\n",
            "\n",
            "    accuracy                           0.31      2708\n",
            "   macro avg       0.27      0.30      0.26      2708\n",
            "weighted avg       0.37      0.31      0.31      2708\n",
            "\n",
            "0.2977563709936377\n",
            "Split:  2\n"
          ]
        },
        {
          "output_type": "stream",
          "name": "stderr",
          "text": [
            "/usr/local/lib/python3.7/dist-packages/sklearn/utils/deprecation.py:87: FutureWarning: Function get_feature_names is deprecated; get_feature_names is deprecated in 1.0 and will be removed in 1.2. Please use get_feature_names_out instead.\n",
            "  warnings.warn(msg, category=FutureWarning)\n"
          ]
        },
        {
          "output_type": "stream",
          "name": "stdout",
          "text": [
            "[(0, 4143), (1, 4143), (2, 4143), (3, 4143), (4, 4143), (5, 4143), (6, 4143), (7, 4143), (8, 4143), (9, 4143)]\n",
            "              precision    recall  f1-score   support\n",
            "\n",
            "           0       0.19      0.05      0.08       191\n",
            "           1       0.18      0.38      0.24       172\n",
            "           2       0.09      0.13      0.10       134\n",
            "           3       0.20      0.13      0.16       216\n",
            "           4       0.60      0.37      0.46      1036\n",
            "           5       0.24      0.19      0.21        77\n",
            "           6       0.67      0.84      0.74       196\n",
            "           7       0.17      0.13      0.15       290\n",
            "           8       0.11      0.16      0.13       139\n",
            "           9       0.22      0.50      0.31       257\n",
            "\n",
            "    accuracy                           0.32      2708\n",
            "   macro avg       0.27      0.29      0.26      2708\n",
            "weighted avg       0.37      0.32      0.33      2708\n",
            "\n",
            "0.2885083316539593\n",
            "Split:  3\n"
          ]
        },
        {
          "output_type": "stream",
          "name": "stderr",
          "text": [
            "/usr/local/lib/python3.7/dist-packages/sklearn/utils/deprecation.py:87: FutureWarning: Function get_feature_names is deprecated; get_feature_names is deprecated in 1.0 and will be removed in 1.2. Please use get_feature_names_out instead.\n",
            "  warnings.warn(msg, category=FutureWarning)\n"
          ]
        },
        {
          "output_type": "stream",
          "name": "stdout",
          "text": [
            "[(0, 4143), (1, 4143), (2, 4143), (3, 4143), (4, 4143), (5, 4143), (6, 4143), (7, 4143), (8, 4143), (9, 4143)]\n",
            "              precision    recall  f1-score   support\n",
            "\n",
            "           0       0.21      0.06      0.09       191\n",
            "           1       0.18      0.41      0.25       172\n",
            "           2       0.07      0.11      0.09       134\n",
            "           3       0.18      0.12      0.15       216\n",
            "           4       0.56      0.34      0.42      1036\n",
            "           5       0.26      0.19      0.22        77\n",
            "           6       0.63      0.88      0.73       196\n",
            "           7       0.17      0.11      0.13       290\n",
            "           8       0.09      0.11      0.10       139\n",
            "           9       0.23      0.53      0.32       257\n",
            "\n",
            "    accuracy                           0.31      2708\n",
            "   macro avg       0.26      0.29      0.25      2708\n",
            "weighted avg       0.36      0.31      0.31      2708\n",
            "\n",
            "0.2871302077055935\n",
            "Split:  4\n"
          ]
        },
        {
          "output_type": "stream",
          "name": "stderr",
          "text": [
            "/usr/local/lib/python3.7/dist-packages/sklearn/utils/deprecation.py:87: FutureWarning: Function get_feature_names is deprecated; get_feature_names is deprecated in 1.0 and will be removed in 1.2. Please use get_feature_names_out instead.\n",
            "  warnings.warn(msg, category=FutureWarning)\n"
          ]
        },
        {
          "output_type": "stream",
          "name": "stdout",
          "text": [
            "[(0, 4144), (1, 4144), (2, 4144), (3, 4144), (4, 4144), (5, 4144), (6, 4144), (7, 4144), (8, 4144), (9, 4144)]\n",
            "              precision    recall  f1-score   support\n",
            "\n",
            "           0       0.17      0.07      0.10       190\n",
            "           1       0.18      0.33      0.23       173\n",
            "           2       0.13      0.16      0.14       135\n",
            "           3       0.21      0.14      0.17       217\n",
            "           4       0.59      0.38      0.46      1035\n",
            "           5       0.38      0.33      0.35        76\n",
            "           6       0.65      0.85      0.74       195\n",
            "           7       0.19      0.17      0.18       290\n",
            "           8       0.14      0.19      0.16       139\n",
            "           9       0.24      0.53      0.33       258\n",
            "\n",
            "    accuracy                           0.34      2708\n",
            "   macro avg       0.29      0.31      0.29      2708\n",
            "weighted avg       0.38      0.34      0.34      2708\n",
            "\n",
            "0.3146080778345702\n"
          ]
        }
      ]
    },
    {
      "cell_type": "code",
      "source": [
        "balanced_accuracy=[0.2882247048904138, 0.2977563709936377, 0.2885083316539593, 0.2871302077055935, 0.3146080778345702]"
      ],
      "metadata": {
        "id": "7q-tA4LJI7yI"
      },
      "execution_count": null,
      "outputs": []
    },
    {
      "cell_type": "code",
      "source": [
        "sum(balanced_accuracy)/5"
      ],
      "metadata": {
        "colab": {
          "base_uri": "https://localhost:8080/"
        },
        "id": "bogQc3uyJK6Q",
        "outputId": "6df57e09-2039-4c31-f970-4a1067f1cf59"
      },
      "execution_count": null,
      "outputs": [
        {
          "output_type": "execute_result",
          "data": {
            "text/plain": [
              "0.2952455386156349"
            ]
          },
          "metadata": {},
          "execution_count": 19
        }
      ]
    },
    {
      "cell_type": "markdown",
      "metadata": {
        "id": "d-IRagr9CuJz"
      },
      "source": [
        "### 2.Support Vector Machine use kernel='rbf' gamma = 'auto', C=10.0"
      ]
    },
    {
      "cell_type": "markdown",
      "metadata": {
        "id": "qI2MOqdKtYAc"
      },
      "source": [
        "Fold0"
      ]
    },
    {
      "cell_type": "code",
      "execution_count": null,
      "metadata": {
        "colab": {
          "base_uri": "https://localhost:8080/"
        },
        "id": "d_m75cnbJGXr",
        "outputId": "8a1228c4-7d7a-4579-e766-db93d42a8640"
      },
      "outputs": [
        {
          "name": "stdout",
          "output_type": "stream",
          "text": [
            "Counter({4: 4143, 9: 4143, 6: 4143, 2: 4143, 0: 4143, 7: 4143, 1: 4143, 5: 4143, 8: 4143, 3: 4143})\n"
          ]
        }
      ],
      "source": [
        "from sklearn import svm\n",
        "from imblearn.over_sampling import SMOTE\n",
        "clf_svm = svm.SVC(C=10.0, kernel='rbf', degree=10, gamma='auto')\n",
        "X_res, y_res = SMOTE().fit_resample(df_X_train_tfidf.to_numpy(), split0['y_train'])\n",
        "print(Counter(y_res))"
      ]
    },
    {
      "cell_type": "code",
      "execution_count": null,
      "metadata": {
        "colab": {
          "base_uri": "https://localhost:8080/"
        },
        "id": "E1ew6De1twOW",
        "outputId": "837925d2-c643-41c0-d395-30b21f1c47a5"
      },
      "outputs": [
        {
          "data": {
            "text/plain": [
              "SVC(C=10.0, degree=10, gamma='auto')"
            ]
          },
          "execution_count": 27,
          "metadata": {},
          "output_type": "execute_result"
        }
      ],
      "source": [
        "clf_svm.fit(X_res, y_res)"
      ]
    },
    {
      "cell_type": "markdown",
      "metadata": {
        "id": "lda565-b12qs"
      },
      "source": [
        "Took 34 min."
      ]
    },
    {
      "cell_type": "code",
      "execution_count": null,
      "metadata": {
        "colab": {
          "base_uri": "https://localhost:8080/",
          "height": 506
        },
        "id": "JWpQMYSkt7C_",
        "outputId": "cbaa1b5d-4126-4d9f-d5e2-a0c0c0c5f803"
      },
      "outputs": [
        {
          "ename": "KeyError",
          "evalue": "ignored",
          "output_type": "error",
          "traceback": [
            "\u001b[0;31m---------------------------------------------------------------------------\u001b[0m",
            "\u001b[0;31mKeyError\u001b[0m                                  Traceback (most recent call last)",
            "\u001b[0;32m/usr/local/lib/python3.7/dist-packages/pandas/core/indexes/base.py\u001b[0m in \u001b[0;36mget_loc\u001b[0;34m(self, key, method, tolerance)\u001b[0m\n\u001b[1;32m   3360\u001b[0m             \u001b[0;32mtry\u001b[0m\u001b[0;34m:\u001b[0m\u001b[0;34m\u001b[0m\u001b[0;34m\u001b[0m\u001b[0m\n\u001b[0;32m-> 3361\u001b[0;31m                 \u001b[0;32mreturn\u001b[0m \u001b[0mself\u001b[0m\u001b[0;34m.\u001b[0m\u001b[0m_engine\u001b[0m\u001b[0;34m.\u001b[0m\u001b[0mget_loc\u001b[0m\u001b[0;34m(\u001b[0m\u001b[0mcasted_key\u001b[0m\u001b[0;34m)\u001b[0m\u001b[0;34m\u001b[0m\u001b[0;34m\u001b[0m\u001b[0m\n\u001b[0m\u001b[1;32m   3362\u001b[0m             \u001b[0;32mexcept\u001b[0m \u001b[0mKeyError\u001b[0m \u001b[0;32mas\u001b[0m \u001b[0merr\u001b[0m\u001b[0;34m:\u001b[0m\u001b[0;34m\u001b[0m\u001b[0;34m\u001b[0m\u001b[0m\n",
            "\u001b[0;32m/usr/local/lib/python3.7/dist-packages/pandas/_libs/index.pyx\u001b[0m in \u001b[0;36mpandas._libs.index.IndexEngine.get_loc\u001b[0;34m()\u001b[0m\n",
            "\u001b[0;32mpandas/_libs/index_class_helper.pxi\u001b[0m in \u001b[0;36mpandas._libs.index.Int64Engine._check_type\u001b[0;34m()\u001b[0m\n",
            "\u001b[0;32mpandas/_libs/index_class_helper.pxi\u001b[0m in \u001b[0;36mpandas._libs.index.Int64Engine._check_type\u001b[0;34m()\u001b[0m\n",
            "\u001b[0;31mKeyError\u001b[0m: 'lyric'",
            "\nThe above exception was the direct cause of the following exception:\n",
            "\u001b[0;31mKeyError\u001b[0m                                  Traceback (most recent call last)",
            "\u001b[0;32m<ipython-input-28-4d0944209b10>\u001b[0m in \u001b[0;36m<module>\u001b[0;34m\u001b[0m\n\u001b[0;32m----> 1\u001b[0;31m \u001b[0mX_test_tfidf\u001b[0m \u001b[0;34m=\u001b[0m \u001b[0mtfidf_vectorizer\u001b[0m\u001b[0;34m.\u001b[0m\u001b[0mtransform\u001b[0m\u001b[0;34m(\u001b[0m\u001b[0msplit0\u001b[0m\u001b[0;34m[\u001b[0m\u001b[0;34m'X_test'\u001b[0m\u001b[0;34m]\u001b[0m\u001b[0;34m[\u001b[0m\u001b[0;34m'lyric'\u001b[0m\u001b[0;34m]\u001b[0m\u001b[0;34m)\u001b[0m\u001b[0;34m.\u001b[0m\u001b[0mtoarray\u001b[0m\u001b[0;34m(\u001b[0m\u001b[0;34m)\u001b[0m\u001b[0;34m\u001b[0m\u001b[0;34m\u001b[0m\u001b[0m\n\u001b[0m",
            "\u001b[0;32m/usr/local/lib/python3.7/dist-packages/pandas/core/series.py\u001b[0m in \u001b[0;36m__getitem__\u001b[0;34m(self, key)\u001b[0m\n\u001b[1;32m    940\u001b[0m \u001b[0;34m\u001b[0m\u001b[0m\n\u001b[1;32m    941\u001b[0m         \u001b[0;32melif\u001b[0m \u001b[0mkey_is_scalar\u001b[0m\u001b[0;34m:\u001b[0m\u001b[0;34m\u001b[0m\u001b[0;34m\u001b[0m\u001b[0m\n\u001b[0;32m--> 942\u001b[0;31m             \u001b[0;32mreturn\u001b[0m \u001b[0mself\u001b[0m\u001b[0;34m.\u001b[0m\u001b[0m_get_value\u001b[0m\u001b[0;34m(\u001b[0m\u001b[0mkey\u001b[0m\u001b[0;34m)\u001b[0m\u001b[0;34m\u001b[0m\u001b[0;34m\u001b[0m\u001b[0m\n\u001b[0m\u001b[1;32m    943\u001b[0m \u001b[0;34m\u001b[0m\u001b[0m\n\u001b[1;32m    944\u001b[0m         \u001b[0;32mif\u001b[0m \u001b[0mis_hashable\u001b[0m\u001b[0;34m(\u001b[0m\u001b[0mkey\u001b[0m\u001b[0;34m)\u001b[0m\u001b[0;34m:\u001b[0m\u001b[0;34m\u001b[0m\u001b[0;34m\u001b[0m\u001b[0m\n",
            "\u001b[0;32m/usr/local/lib/python3.7/dist-packages/pandas/core/series.py\u001b[0m in \u001b[0;36m_get_value\u001b[0;34m(self, label, takeable)\u001b[0m\n\u001b[1;32m   1049\u001b[0m \u001b[0;34m\u001b[0m\u001b[0m\n\u001b[1;32m   1050\u001b[0m         \u001b[0;31m# Similar to Index.get_value, but we do not fall back to positional\u001b[0m\u001b[0;34m\u001b[0m\u001b[0;34m\u001b[0m\u001b[0;34m\u001b[0m\u001b[0m\n\u001b[0;32m-> 1051\u001b[0;31m         \u001b[0mloc\u001b[0m \u001b[0;34m=\u001b[0m \u001b[0mself\u001b[0m\u001b[0;34m.\u001b[0m\u001b[0mindex\u001b[0m\u001b[0;34m.\u001b[0m\u001b[0mget_loc\u001b[0m\u001b[0;34m(\u001b[0m\u001b[0mlabel\u001b[0m\u001b[0;34m)\u001b[0m\u001b[0;34m\u001b[0m\u001b[0;34m\u001b[0m\u001b[0m\n\u001b[0m\u001b[1;32m   1052\u001b[0m         \u001b[0;32mreturn\u001b[0m \u001b[0mself\u001b[0m\u001b[0;34m.\u001b[0m\u001b[0mindex\u001b[0m\u001b[0;34m.\u001b[0m\u001b[0m_get_values_for_loc\u001b[0m\u001b[0;34m(\u001b[0m\u001b[0mself\u001b[0m\u001b[0;34m,\u001b[0m \u001b[0mloc\u001b[0m\u001b[0;34m,\u001b[0m \u001b[0mlabel\u001b[0m\u001b[0;34m)\u001b[0m\u001b[0;34m\u001b[0m\u001b[0;34m\u001b[0m\u001b[0m\n\u001b[1;32m   1053\u001b[0m \u001b[0;34m\u001b[0m\u001b[0m\n",
            "\u001b[0;32m/usr/local/lib/python3.7/dist-packages/pandas/core/indexes/base.py\u001b[0m in \u001b[0;36mget_loc\u001b[0;34m(self, key, method, tolerance)\u001b[0m\n\u001b[1;32m   3361\u001b[0m                 \u001b[0;32mreturn\u001b[0m \u001b[0mself\u001b[0m\u001b[0;34m.\u001b[0m\u001b[0m_engine\u001b[0m\u001b[0;34m.\u001b[0m\u001b[0mget_loc\u001b[0m\u001b[0;34m(\u001b[0m\u001b[0mcasted_key\u001b[0m\u001b[0;34m)\u001b[0m\u001b[0;34m\u001b[0m\u001b[0;34m\u001b[0m\u001b[0m\n\u001b[1;32m   3362\u001b[0m             \u001b[0;32mexcept\u001b[0m \u001b[0mKeyError\u001b[0m \u001b[0;32mas\u001b[0m \u001b[0merr\u001b[0m\u001b[0;34m:\u001b[0m\u001b[0;34m\u001b[0m\u001b[0;34m\u001b[0m\u001b[0m\n\u001b[0;32m-> 3363\u001b[0;31m                 \u001b[0;32mraise\u001b[0m \u001b[0mKeyError\u001b[0m\u001b[0;34m(\u001b[0m\u001b[0mkey\u001b[0m\u001b[0;34m)\u001b[0m \u001b[0;32mfrom\u001b[0m \u001b[0merr\u001b[0m\u001b[0;34m\u001b[0m\u001b[0;34m\u001b[0m\u001b[0m\n\u001b[0m\u001b[1;32m   3364\u001b[0m \u001b[0;34m\u001b[0m\u001b[0m\n\u001b[1;32m   3365\u001b[0m         \u001b[0;32mif\u001b[0m \u001b[0mis_scalar\u001b[0m\u001b[0;34m(\u001b[0m\u001b[0mkey\u001b[0m\u001b[0;34m)\u001b[0m \u001b[0;32mand\u001b[0m \u001b[0misna\u001b[0m\u001b[0;34m(\u001b[0m\u001b[0mkey\u001b[0m\u001b[0;34m)\u001b[0m \u001b[0;32mand\u001b[0m \u001b[0;32mnot\u001b[0m \u001b[0mself\u001b[0m\u001b[0;34m.\u001b[0m\u001b[0mhasnans\u001b[0m\u001b[0;34m:\u001b[0m\u001b[0;34m\u001b[0m\u001b[0;34m\u001b[0m\u001b[0m\n",
            "\u001b[0;31mKeyError\u001b[0m: 'lyric'"
          ]
        }
      ],
      "source": [
        "X_test_tfidf = tfidf_vectorizer.transform(split0['X_test']['lyric']).toarray()"
      ]
    },
    {
      "cell_type": "code",
      "execution_count": null,
      "metadata": {
        "colab": {
          "base_uri": "https://localhost:8080/"
        },
        "id": "rqggBhF9t7C_",
        "outputId": "01a399f5-64a1-4e22-a954-b98e0657d134"
      },
      "outputs": [
        {
          "data": {
            "text/plain": [
              "array([[0., 0., 0., ..., 0., 0., 0.],\n",
              "       [0., 0., 0., ..., 0., 0., 0.],\n",
              "       [0., 0., 0., ..., 0., 0., 0.],\n",
              "       ...,\n",
              "       [0., 0., 0., ..., 0., 0., 0.],\n",
              "       [0., 0., 0., ..., 0., 0., 0.],\n",
              "       [0., 0., 0., ..., 0., 0., 0.]])"
            ]
          },
          "execution_count": 46,
          "metadata": {},
          "output_type": "execute_result"
        }
      ],
      "source": [
        "X_test_tfidf"
      ]
    },
    {
      "cell_type": "code",
      "execution_count": null,
      "metadata": {
        "id": "yY_5oB3GnVhi"
      },
      "outputs": [],
      "source": [
        "split0['X_test']"
      ]
    },
    {
      "cell_type": "code",
      "execution_count": null,
      "metadata": {
        "id": "PN2vzs0LJJo3"
      },
      "outputs": [],
      "source": [
        "from sklearn.metrics import balanced_accuracy_score\n",
        "from sklearn.metrics import accuracy_score,classification_report\n",
        "\n",
        "predicted_svm_SMOTE = clf_svm.predict(X_test_tfidf)\n",
        "print(metrics.classification_report(split0['y_test'], predicted_svm_SMOTE) )\n",
        "balanced_accuracy_score(split0['y_test'], predicted_svm_SMOTE)"
      ]
    },
    {
      "cell_type": "code",
      "execution_count": null,
      "metadata": {
        "id": "qB6B3AQYuTdA"
      },
      "outputs": [],
      "source": [
        "DIR = '/content/drive/MyDrive/music4all/'\n",
        "with open(DIR+ \"TF-IDF_svm_log.txt\", \"a\") as f:\n",
        "  print(\"Fold0\", file=f)\n",
        "  print(metrics.classification_report(split0['y_test'], predicted_svm_SMOTE) , file=f)\n",
        "  print(balanced_accuracy_score(split0['y_test'], predicted_svm_SMOTE), file=f)\n"
      ]
    },
    {
      "cell_type": "code",
      "execution_count": null,
      "metadata": {
        "id": "EZ79lhn7wUd9"
      },
      "outputs": [],
      "source": [
        "balanced_accuracy=[]\n",
        "balanced_accuracy.append(balanced_accuracy_score(split0['y_test'], predicted_svm_SMOTE))"
      ]
    },
    {
      "cell_type": "code",
      "execution_count": null,
      "metadata": {
        "id": "UszD4fBsJWzO"
      },
      "outputs": [],
      "source": [
        "import matplotlib.pyplot as plt\n",
        "from sklearn.metrics import confusion_matrix, ConfusionMatrixDisplay\n",
        "ConfusionMatrixDisplay.from_predictions(split0['y_test'], predicted_svm_SMOTE\n",
        "                                        , cmap=plt.cm.Blues)\n",
        "plt.figure(figsize=(10, 10))\n",
        "plt.show()"
      ]
    },
    {
      "cell_type": "markdown",
      "metadata": {
        "id": "I_NCTsFyprH0"
      },
      "source": [
        "*italicized text*### Fold3 (split[2])"
      ]
    },
    {
      "cell_type": "code",
      "execution_count": null,
      "metadata": {
        "colab": {
          "base_uri": "https://localhost:8080/"
        },
        "id": "qvhs4UC4WQkU",
        "outputId": "f1aa5b64-dac2-4d54-9993-e14a4ad3b441"
      },
      "outputs": [
        {
          "name": "stdout",
          "output_type": "stream",
          "text": [
            "Looking in indexes: https://pypi.org/simple, https://us-python.pkg.dev/colab-wheels/public/simple/\n",
            "Requirement already satisfied: nltk in /usr/local/lib/python3.7/dist-packages (3.7)\n",
            "Requirement already satisfied: regex>=2021.8.3 in /usr/local/lib/python3.7/dist-packages (from nltk) (2022.6.2)\n",
            "Requirement already satisfied: click in /usr/local/lib/python3.7/dist-packages (from nltk) (7.1.2)\n",
            "Requirement already satisfied: joblib in /usr/local/lib/python3.7/dist-packages (from nltk) (1.1.0)\n",
            "Requirement already satisfied: tqdm in /usr/local/lib/python3.7/dist-packages (from nltk) (4.64.0)\n"
          ]
        }
      ],
      "source": [
        "!pip install nltk"
      ]
    },
    {
      "cell_type": "code",
      "execution_count": null,
      "metadata": {
        "colab": {
          "base_uri": "https://localhost:8080/"
        },
        "id": "nCON7NTRWbH5",
        "outputId": "c8e2b30c-4d95-446d-e5d2-a2056fd91456"
      },
      "outputs": [
        {
          "name": "stderr",
          "output_type": "stream",
          "text": [
            "[nltk_data] Downloading package wordnet to /root/nltk_data...\n",
            "[nltk_data] Downloading package omw-1.4 to /root/nltk_data...\n"
          ]
        },
        {
          "data": {
            "text/plain": [
              "True"
            ]
          },
          "execution_count": 18,
          "metadata": {},
          "output_type": "execute_result"
        }
      ],
      "source": [
        "import nltk\n",
        "nltk.download('wordnet')\n",
        "nltk.download('omw-1.4')"
      ]
    },
    {
      "cell_type": "code",
      "execution_count": null,
      "metadata": {
        "id": "SuYUbJamZOyg"
      },
      "outputs": [],
      "source": [
        "balanced_accuracy=[]"
      ]
    },
    {
      "cell_type": "markdown",
      "metadata": {
        "id": "ovtxf_pqqIx2"
      },
      "source": [
        "Unit test"
      ]
    },
    {
      "cell_type": "code",
      "execution_count": null,
      "metadata": {
        "colab": {
          "base_uri": "https://localhost:8080/"
        },
        "id": "6AcQ4EYpqPjW",
        "outputId": "6ca59f71-7409-4b20-dce7-c7b13040f5f9"
      },
      "outputs": [
        {
          "data": {
            "text/plain": [
              "0      a sunny day so I got nowhere hide Not a cloud...\n",
              "1      Tell me a tale always was Sing me a song alwa...\n",
              "3      like a conversation stops breathe Is it imagi...\n",
              "6      Locked up tight Like I never feel again Stuck...\n",
              "7      in crib about leer jets coupes way salt sell ...\n",
              "8      Weekends in bed no scramble eggs or bacon I j...\n",
              "10     every breath I breathe making history name on...\n",
              "11     is I know canopy loss home Is a far cry while...\n",
              "12     Ooh I see over there be shy come here got thi...\n",
              "13     a boy lost way looking someone play a girl in...\n",
              "14     Can I be honest Can I tell I never did mind s...\n",
              "15     Ooh tell me I do supposed be I drop it now Bu...\n",
              "16     dog eat just waking up dove is in dungeon haw...\n",
              "17     never met type ignored me alright Never be fr...\n",
              "18     I wish I believe in bigger More trees winds o...\n",
              "19     Yeah yeah yeah yeah Yeah yeah yeah yeah Yeah ...\n",
              "21     walk room So perfect but unaware Making me st...\n",
              "22     feet are cracked As break back In all yes all...\n",
              "25     good pain brain A cup lean me sleep see I be ...\n",
              "26     Soon come soon Sweet so sweet Falling soft Be...\n",
              "Name: texts, dtype: object"
            ]
          },
          "execution_count": 24,
          "metadata": {},
          "output_type": "execute_result"
        }
      ],
      "source": [
        "for i, token_list in split0['X_train'].items():\n",
        "    lyric=\"\"\n",
        "    for word in token_list:\n",
        "      if wordnet.synsets(word):\n",
        "        word = \" \" +word\n",
        "        #print(word)\n",
        "        lyric +=word\n",
        "    split0['X_train'][i] =  lyric\n",
        "for i, token_list in split0['X_test'].items():\n",
        "  lyric=\"\"\n",
        "  for word in token_list:\n",
        "    if wordnet.synsets(word):\n",
        "      word = \" \" +word\n",
        "      #print(word)\n",
        "      lyric +=word\n",
        "  split0['X_test'][i] =  lyric\n",
        "split0['X_train'][0:20]\n",
        "split0['X_test'][0:20]"
      ]
    },
    {
      "cell_type": "code",
      "execution_count": null,
      "metadata": {
        "colab": {
          "base_uri": "https://localhost:8080/"
        },
        "id": "IOc3c94VqckS",
        "outputId": "eb970ae3-2f30-4b8c-e504-bedd03484644"
      },
      "outputs": [
        {
          "data": {
            "text/plain": [
              "2     [A, buh, A, buh, You, went, to, school, to, le...\n",
              "4     [Say, the, words, I, cannot, say, Say, them, o...\n",
              "5     [I, was, alone, I, was, made, of, stone, You, ...\n",
              "9     [Again, the, burden, of, losing, rests, upon, ...\n",
              "20    [only, been, three, weeks, And, a, bag, of, sp...\n",
              "23    [Björk, My, blood, flows, in, me, My, red, jui...\n",
              "24    [oh, no, no, no, no, no, no, I, know, That, ju...\n",
              "34    [When, I, think, of, you, in, the, city, The, ...\n",
              "45    [How, did, it, get, to, I, wish, that, I, coul...\n",
              "55    [And, irony, is, okay, I, suppose, culture, is...\n",
              "56    [Boy, brought, power, To, Hear, me, call, To, ...\n",
              "57    [I, wanted, you, to, know, that, I, love, the,...\n",
              "60    [Now, floating, like, two, feathers, In, the, ...\n",
              "66    [Oh, oh, yeah, I, get, loud, when, you, put, t...\n",
              "67    [Sometimes, I, get, tired, of, this, attitude,...\n",
              "68    [not, twenty, and, detached, now, Way, too, ea...\n",
              "72    [the, look, in, your, eyes, that, told, me, th...\n",
              "73    [Da, da, da, da, The, smell, of, your, skin, l...\n",
              "85    [Between, the, billboard, masturbation, Across...\n",
              "86    [Pretty, Brown, Eyes, Pretty, Brown, Eyes, You...\n",
              "Name: texts, dtype: object"
            ]
          },
          "execution_count": 47,
          "metadata": {},
          "output_type": "execute_result"
        }
      ],
      "source": [
        "split0['X_train'][0:20]\n",
        "split0['X_test'][0:20]"
      ]
    },
    {
      "cell_type": "code",
      "execution_count": null,
      "metadata": {
        "colab": {
          "base_uri": "https://localhost:8080/"
        },
        "id": "5mOHYa1mqJzp",
        "outputId": "76a82f88-e9ca-4c8d-8e71-d74864a9ecc8"
      },
      "outputs": [
        {
          "name": "stdout",
          "output_type": "stream",
          "text": [
            "(20, 723)\n"
          ]
        },
        {
          "data": {
            "text/plain": [
              "SVC(degree=10, gamma=1.0)"
            ]
          },
          "execution_count": 27,
          "metadata": {},
          "output_type": "execute_result"
        }
      ],
      "source": [
        "tfidf_vectorizer = TfidfVectorizer(analyzer=\"word\", stop_words='english')\n",
        "X_train_tfidf = tfidf_vectorizer.fit_transform(split0['X_train'][0:20]).toarray()\n",
        "df_X_train_tfidf = pd.DataFrame(X_train_tfidf\n",
        "                              ,index = split0['X_train'][0:20].index\n",
        "                            , columns=tfidf_vectorizer.get_feature_names())\n",
        "X_test_tfidf = tfidf_vectorizer.transform(split0['X_test'][0:20]).toarray()\n",
        "print(df_X_train_tfidf.shape)\n",
        "\n",
        "#fit\n",
        "clf_svm = svm.SVC(C=1.0, kernel='rbf', degree=10, gamma=1.0)\n",
        "clf_svm.fit(df_X_train_tfidf.to_numpy()[0:20], split0['y_train'][0:20])"
      ]
    },
    {
      "cell_type": "code",
      "execution_count": null,
      "metadata": {
        "colab": {
          "base_uri": "https://localhost:8080/"
        },
        "id": "zQta7QxLrD6u",
        "outputId": "f7b826a7-cd21-433a-8f64-48eb9ba31e58"
      },
      "outputs": [
        {
          "name": "stdout",
          "output_type": "stream",
          "text": [
            "              precision    recall  f1-score   support\n",
            "\n",
            "           0       0.00      0.00      0.00         2\n",
            "           1       0.00      0.00      0.00         1\n",
            "           2       0.00      0.00      0.00         1\n",
            "           3       0.00      0.00      0.00         3\n",
            "           4       0.30      1.00      0.46         6\n",
            "           5       0.00      0.00      0.00         1\n",
            "           7       0.00      0.00      0.00         4\n",
            "           9       0.00      0.00      0.00         2\n",
            "\n",
            "    accuracy                           0.30        20\n",
            "   macro avg       0.04      0.12      0.06        20\n",
            "weighted avg       0.09      0.30      0.14        20\n",
            "\n"
          ]
        },
        {
          "name": "stderr",
          "output_type": "stream",
          "text": [
            "/usr/local/lib/python3.7/dist-packages/sklearn/metrics/_classification.py:1318: UndefinedMetricWarning: Precision and F-score are ill-defined and being set to 0.0 in labels with no predicted samples. Use `zero_division` parameter to control this behavior.\n",
            "  _warn_prf(average, modifier, msg_start, len(result))\n",
            "/usr/local/lib/python3.7/dist-packages/sklearn/metrics/_classification.py:1318: UndefinedMetricWarning: Precision and F-score are ill-defined and being set to 0.0 in labels with no predicted samples. Use `zero_division` parameter to control this behavior.\n",
            "  _warn_prf(average, modifier, msg_start, len(result))\n",
            "/usr/local/lib/python3.7/dist-packages/sklearn/metrics/_classification.py:1318: UndefinedMetricWarning: Precision and F-score are ill-defined and being set to 0.0 in labels with no predicted samples. Use `zero_division` parameter to control this behavior.\n",
            "  _warn_prf(average, modifier, msg_start, len(result))\n"
          ]
        }
      ],
      "source": [
        "from sklearn.metrics import accuracy_score,classification_report\n",
        "predicted_svm_SMOTE = clf_svm.predict(X_test_tfidf[0:20])\n",
        "print(classification_report(split0['y_test'][0:20], predicted_svm_SMOTE) )\n",
        "balanced_acc =balanced_accuracy_score(split0['y_test'][0:20], predicted_svm_SMOTE)"
      ]
    },
    {
      "cell_type": "code",
      "execution_count": null,
      "metadata": {
        "colab": {
          "base_uri": "https://localhost:8080/"
        },
        "id": "30TPEth8rOYl",
        "outputId": "4010cfcc-06c6-4306-baaf-d7c6415bfe63"
      },
      "outputs": [
        {
          "data": {
            "text/plain": [
              "0.125"
            ]
          },
          "execution_count": 29,
          "metadata": {},
          "output_type": "execute_result"
        }
      ],
      "source": [
        "balanced_acc"
      ]
    },
    {
      "cell_type": "markdown",
      "metadata": {
        "id": "fSmb0nPCruL2"
      },
      "source": [
        "### Fold0"
      ]
    },
    {
      "cell_type": "code",
      "execution_count": null,
      "metadata": {
        "colab": {
          "background_save": true,
          "base_uri": "https://localhost:8080/"
        },
        "id": "T34BTekvprIg",
        "outputId": "57462d7e-3461-4cb9-d235-6a833db3266e"
      },
      "outputs": [
        {
          "name": "stderr",
          "output_type": "stream",
          "text": [
            "/usr/local/lib/python3.7/dist-packages/sklearn/utils/deprecation.py:87: FutureWarning: Function get_feature_names is deprecated; get_feature_names is deprecated in 1.0 and will be removed in 1.2. Please use get_feature_names_out instead.\n",
            "  warnings.warn(msg, category=FutureWarning)\n"
          ]
        },
        {
          "name": "stdout",
          "output_type": "stream",
          "text": [
            "(10832, 21795)\n",
            "Counter({4: 4143, 9: 4143, 6: 4143, 2: 4143, 0: 4143, 7: 4143, 1: 4143, 5: 4143, 8: 4143, 3: 4143})\n"
          ]
        }
      ],
      "source": [
        "from sklearn.metrics import accuracy_score,classification_report\n",
        "from sklearn.feature_extraction.text import TfidfVectorizer\n",
        "from sklearn import svm\n",
        "from imblearn.over_sampling import SMOTE\n",
        "from nltk.corpus import wordnet\n",
        "DIR = '/content/drive/MyDrive/music4all/'\n",
        "\n",
        "for i in range(0,1):\n",
        "  split0 = splits[i]\n",
        "  for i, token_list in split0['X_train'].items():\n",
        "    lyric=\"\"\n",
        "    for word in token_list:\n",
        "      if wordnet.synsets(word):\n",
        "        word = \" \" +word\n",
        "        #print(word)\n",
        "        lyric +=word\n",
        "    split0['X_train'][i] =  lyric\n",
        "  for i, token_list in split0['X_test'].items():\n",
        "    lyric=\"\"\n",
        "    for word in token_list:\n",
        "      if wordnet.synsets(word):\n",
        "        word = \" \" +word\n",
        "        #print(word)\n",
        "        lyric +=word\n",
        "    split0['X_test'][i] =  lyric\n",
        "  \n",
        "  tfidf_vectorizer = TfidfVectorizer(analyzer=\"word\", stop_words='english')\n",
        "  X_train_tfidf = tfidf_vectorizer.fit_transform(split0['X_train']).toarray()\n",
        "  df_X_train_tfidf = pd.DataFrame(X_train_tfidf\n",
        "                                ,index = split0['X_train'].index\n",
        "                              , columns=tfidf_vectorizer.get_feature_names())\n",
        "  X_test_tfidf = tfidf_vectorizer.transform(split0['X_test']).toarray()\n",
        "  print(df_X_train_tfidf.shape)\n",
        "\n",
        "  #fit\n",
        "  clf_svm = svm.SVC(C=1.0, kernel='rbf', degree=10, gamma=1.0)\n",
        "  X_res, y_res = SMOTE().fit_resample(df_X_train_tfidf.to_numpy(), split0['y_train'])\n",
        "  print(Counter(y_res))\n",
        "  clf_svm.fit(X_res, y_res)"
      ]
    },
    {
      "cell_type": "code",
      "execution_count": null,
      "metadata": {
        "id": "05YdcLBNEMkU",
        "colab": {
          "base_uri": "https://localhost:8080/"
        },
        "outputId": "c2630ffd-e789-4be5-f91e-7aee50939dcf"
      },
      "outputs": [
        {
          "output_type": "stream",
          "name": "stdout",
          "text": [
            "              precision    recall  f1-score   support\n",
            "\n",
            "           0       0.26      0.03      0.05       190\n",
            "           1       0.33      0.05      0.09       173\n",
            "           2       0.57      0.03      0.06       135\n",
            "           3       0.44      0.02      0.04       216\n",
            "           4       0.41      0.94      0.57      1036\n",
            "           5       0.43      0.04      0.07        76\n",
            "           6       0.90      0.59      0.72       195\n",
            "           7       0.31      0.04      0.07       290\n",
            "           8       0.30      0.02      0.04       139\n",
            "           9       0.30      0.07      0.11       258\n",
            "\n",
            "    accuracy                           0.42      2708\n",
            "   macro avg       0.43      0.18      0.18      2708\n",
            "weighted avg       0.41      0.42      0.31      2708\n",
            "\n",
            "0.18302532232708063\n"
          ]
        }
      ],
      "source": [
        "predicted_svm_SMOTE = clf_svm.predict(X_test_tfidf)\n",
        "print(classification_report(split0['y_test'], predicted_svm_SMOTE) )\n",
        "balanced_acc =balanced_accuracy_score(split0['y_test'], predicted_svm_SMOTE)\n",
        "print(balanced_acc)\n",
        "balanced_accuracy.append(balanced_acc )\n",
        "\n",
        "with open(DIR+ \"TF-IDF_svm_log.txt\", \"a\") as f:\n",
        "  print(\"Fold:\", i, file=f)\n",
        "  print(classification_report(split0['y_test'], predicted_svm_SMOTE) , file=f)\n",
        "  print(balanced_acc, file=f)"
      ]
    },
    {
      "cell_type": "markdown",
      "metadata": {
        "id": "T5t8wVdlu03-"
      },
      "source": [
        "### Fold1-4"
      ]
    },
    {
      "cell_type": "code",
      "execution_count": null,
      "metadata": {
        "id": "cdOYjKU0u5gc"
      },
      "outputs": [],
      "source": [
        "from sklearn.metrics import accuracy_score,classification_report\n",
        "from sklearn.feature_extraction.text import TfidfVectorizer\n",
        "from sklearn import svm\n",
        "from imblearn.over_sampling import SMOTE\n",
        "DIR = '/content/drive/MyDrive/music4all/'\n",
        "\n",
        "for i in range(1,5):\n",
        "  split0 = splits[i]\n",
        "  for i, token_list in split0['X_train'].items():\n",
        "    split0['X_train'][i] =  ' '.join(token_list)\n",
        "  for i, token_list in split0['X_test'].items():\n",
        "    split0['X_test'][i] =  ' '.join(token_list)\n",
        "  \n",
        "  tfidf_vectorizer = TfidfVectorizer(analyzer=\"word\", stop_words='english')\n",
        "  X_train_tfidf = tfidf_vectorizer.fit_transform(split0['X_train']).toarray()\n",
        "  df_X_train_tfidf = pd.DataFrame(X_train_tfidf\n",
        "                                ,index = split0['X_train'].index\n",
        "                              , columns=tfidf_vectorizer.get_feature_names())\n",
        "  X_test_tfidf = tfidf_vectorizer.transform(split0['X_test']).toarray()\n",
        "\n",
        "  #fit\n",
        "  clf_svm = svm.SVC(C=10.0, kernel='rbf', degree=10, gamma='auto')\n",
        "  X_res, y_res = SMOTE().fit_resample(df_X_train_tfidf.to_numpy(), split0['y_train'])\n",
        "  clf_svm.fit(X_res, y_res)\n",
        "\n",
        "  predicted_svm_SMOTE = clf_svm.predict(X_test_tfidf)\n",
        "  print(metrics.classification_report(split0['y_test'], predicted_svm_SMOTE) )\n",
        "  balanced_acc =balanced_accuracy_score(split0['y_test'], predicted_svm_SMOTE)\n",
        "  print(balanced_acc)\n",
        "  balanced_accuracy.append(balanced_acc )\n",
        "\n",
        "  with open(DIR+ \"TF-IDF_svm_log.txt\", \"a\") as f:\n",
        "    print(\"Fold:\", i, file=f)\n",
        "    print(metrics.classification_report(split0['y_test'], predicted_svm_SMOTE) , file=f)\n",
        "    print(balanced_acc, file=f)"
      ]
    },
    {
      "cell_type": "code",
      "execution_count": null,
      "metadata": {
        "id": "vGp_8TWiwds_"
      },
      "outputs": [],
      "source": [
        "sum(balanced_accuracy)/5"
      ]
    }
  ],
  "metadata": {
    "colab": {
      "background_execution": "on",
      "collapsed_sections": [
        "DWL5DlwVTHgV",
        "p7sfTnaDr-Rt",
        "53Py8-TUGoVO",
        "d-IRagr9CuJz",
        "fSmb0nPCruL2",
        "T5t8wVdlu03-"
      ],
      "machine_shape": "hm",
      "provenance": [],
      "mount_file_id": "1nJ7SgmWDf7N0i-3e12IjVaW6uBJh3aqL",
      "authorship_tag": "ABX9TyMAO7NCPum7u07mYiVfpEsZ",
      "include_colab_link": true
    },
    "gpuClass": "standard",
    "kernelspec": {
      "display_name": "Python 3",
      "name": "python3"
    },
    "language_info": {
      "name": "python"
    }
  },
  "nbformat": 4,
  "nbformat_minor": 0
}