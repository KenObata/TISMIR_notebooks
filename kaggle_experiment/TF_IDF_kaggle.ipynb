{
  "cells": [
    {
      "cell_type": "markdown",
      "metadata": {
        "id": "view-in-github",
        "colab_type": "text"
      },
      "source": [
        "<a href=\"https://colab.research.google.com/github/KenObata/TISMIR_notebooks/blob/main/TF_IDF_kaggle.ipynb\" target=\"_parent\"><img src=\"https://colab.research.google.com/assets/colab-badge.svg\" alt=\"Open In Colab\"/></a>"
      ]
    },
    {
      "cell_type": "markdown",
      "metadata": {
        "id": "ZS8WVxEoWZG0"
      },
      "source": [
        "## Week8: This notebook is to get baseline model of TF-IDF.\n",
        "\n",
        "Situation: English only (=multi-class) genre detection using SMOTE.\n",
        "Split: StratifiedKfold.\n"
      ]
    },
    {
      "cell_type": "markdown",
      "metadata": {
        "id": "DWL5DlwVTHgV"
      },
      "source": [
        "### set up"
      ]
    },
    {
      "cell_type": "code",
      "execution_count": 1,
      "metadata": {
        "colab": {
          "base_uri": "https://localhost:8080/"
        },
        "id": "Z8Fdw4QzS4FD",
        "outputId": "dc6274c9-d9d3-4657-ce53-a251f052db43"
      },
      "outputs": [
        {
          "output_type": "stream",
          "name": "stdout",
          "text": [
            "Looking in indexes: https://pypi.org/simple, https://us-python.pkg.dev/colab-wheels/public/simple/\n",
            "Requirement already satisfied: scikit-multilearn in /usr/local/lib/python3.7/dist-packages (0.2.0)\n"
          ]
        }
      ],
      "source": [
        "!pip3 install scikit-multilearn"
      ]
    },
    {
      "cell_type": "code",
      "execution_count": 2,
      "metadata": {
        "id": "1d5F3EmWPVWZ"
      },
      "outputs": [],
      "source": [
        "import os\n",
        "import sys\n",
        "import numpy as np\n",
        "import pandas as pd\n",
        "import matplotlib\n",
        "import matplotlib.pyplot as plt\n",
        "import sklearn\n",
        "from collections import Counter\n",
        "\n",
        "from skmultilearn.model_selection import IterativeStratification   \n",
        "from sklearn.model_selection import StratifiedKFold\n",
        "from scipy.sparse import csr_matrix"
      ]
    },
    {
      "cell_type": "code",
      "execution_count": 2,
      "metadata": {
        "id": "K6VTlTxg8JVQ"
      },
      "outputs": [],
      "source": []
    },
    {
      "cell_type": "markdown",
      "metadata": {
        "id": "hWxfNJqYBfjD"
      },
      "source": [
        "### Data Preparation(Kfold split)"
      ]
    },
    {
      "cell_type": "markdown",
      "metadata": {
        "id": "qbT7Qs4whnTX"
      },
      "source": [
        "Create dataframe for Gensim"
      ]
    },
    {
      "cell_type": "code",
      "execution_count": 27,
      "metadata": {
        "colab": {
          "base_uri": "https://localhost:8080/",
          "height": 0
        },
        "id": "Le3tiKjOOp19",
        "outputId": "59092001-9e30-4f9d-843d-90daf5f074be"
      },
      "outputs": [
        {
          "output_type": "execute_result",
          "data": {
            "text/plain": [
              "          Genre                                             Lyrics\n",
              "0       Hip-Hop  Most folks spend their days daydreaming of fin...\n",
              "1         Indie  Take your cold hands and put them on my face\\n...\n",
              "2         Metal  Are you ready it's time for war\\nWe'll break d...\n",
              "3           Pop  You ask me why I change the color of my hair\\n...\n",
              "4       Hip-Hop  Do you believe in magic in a young girl's hear...\n",
              "...         ...                                                ...\n",
              "258117      R&B  I'm the best friend he's got I'd give him the ...\n",
              "258118      Pop  Bad Boys Blue \"I Totally Miss You\" I did you w...\n",
              "258119      Pop  Forgive me for the things That I never said to...\n",
              "258120    Indie  The day they found a cure for AIDS The day the...\n",
              "258121      Pop  Fourth of July has come, it's custom that we g...\n",
              "\n",
              "[258122 rows x 2 columns]"
            ],
            "text/html": [
              "\n",
              "  <div id=\"df-c41538fb-0cc0-42dd-a49d-454e2c21cdb7\">\n",
              "    <div class=\"colab-df-container\">\n",
              "      <div>\n",
              "<style scoped>\n",
              "    .dataframe tbody tr th:only-of-type {\n",
              "        vertical-align: middle;\n",
              "    }\n",
              "\n",
              "    .dataframe tbody tr th {\n",
              "        vertical-align: top;\n",
              "    }\n",
              "\n",
              "    .dataframe thead th {\n",
              "        text-align: right;\n",
              "    }\n",
              "</style>\n",
              "<table border=\"1\" class=\"dataframe\">\n",
              "  <thead>\n",
              "    <tr style=\"text-align: right;\">\n",
              "      <th></th>\n",
              "      <th>Genre</th>\n",
              "      <th>Lyrics</th>\n",
              "    </tr>\n",
              "  </thead>\n",
              "  <tbody>\n",
              "    <tr>\n",
              "      <th>0</th>\n",
              "      <td>Hip-Hop</td>\n",
              "      <td>Most folks spend their days daydreaming of fin...</td>\n",
              "    </tr>\n",
              "    <tr>\n",
              "      <th>1</th>\n",
              "      <td>Indie</td>\n",
              "      <td>Take your cold hands and put them on my face\\n...</td>\n",
              "    </tr>\n",
              "    <tr>\n",
              "      <th>2</th>\n",
              "      <td>Metal</td>\n",
              "      <td>Are you ready it's time for war\\nWe'll break d...</td>\n",
              "    </tr>\n",
              "    <tr>\n",
              "      <th>3</th>\n",
              "      <td>Pop</td>\n",
              "      <td>You ask me why I change the color of my hair\\n...</td>\n",
              "    </tr>\n",
              "    <tr>\n",
              "      <th>4</th>\n",
              "      <td>Hip-Hop</td>\n",
              "      <td>Do you believe in magic in a young girl's hear...</td>\n",
              "    </tr>\n",
              "    <tr>\n",
              "      <th>...</th>\n",
              "      <td>...</td>\n",
              "      <td>...</td>\n",
              "    </tr>\n",
              "    <tr>\n",
              "      <th>258117</th>\n",
              "      <td>R&amp;B</td>\n",
              "      <td>I'm the best friend he's got I'd give him the ...</td>\n",
              "    </tr>\n",
              "    <tr>\n",
              "      <th>258118</th>\n",
              "      <td>Pop</td>\n",
              "      <td>Bad Boys Blue \"I Totally Miss You\" I did you w...</td>\n",
              "    </tr>\n",
              "    <tr>\n",
              "      <th>258119</th>\n",
              "      <td>Pop</td>\n",
              "      <td>Forgive me for the things That I never said to...</td>\n",
              "    </tr>\n",
              "    <tr>\n",
              "      <th>258120</th>\n",
              "      <td>Indie</td>\n",
              "      <td>The day they found a cure for AIDS The day the...</td>\n",
              "    </tr>\n",
              "    <tr>\n",
              "      <th>258121</th>\n",
              "      <td>Pop</td>\n",
              "      <td>Fourth of July has come, it's custom that we g...</td>\n",
              "    </tr>\n",
              "  </tbody>\n",
              "</table>\n",
              "<p>258122 rows × 2 columns</p>\n",
              "</div>\n",
              "      <button class=\"colab-df-convert\" onclick=\"convertToInteractive('df-c41538fb-0cc0-42dd-a49d-454e2c21cdb7')\"\n",
              "              title=\"Convert this dataframe to an interactive table.\"\n",
              "              style=\"display:none;\">\n",
              "        \n",
              "  <svg xmlns=\"http://www.w3.org/2000/svg\" height=\"24px\"viewBox=\"0 0 24 24\"\n",
              "       width=\"24px\">\n",
              "    <path d=\"M0 0h24v24H0V0z\" fill=\"none\"/>\n",
              "    <path d=\"M18.56 5.44l.94 2.06.94-2.06 2.06-.94-2.06-.94-.94-2.06-.94 2.06-2.06.94zm-11 1L8.5 8.5l.94-2.06 2.06-.94-2.06-.94L8.5 2.5l-.94 2.06-2.06.94zm10 10l.94 2.06.94-2.06 2.06-.94-2.06-.94-.94-2.06-.94 2.06-2.06.94z\"/><path d=\"M17.41 7.96l-1.37-1.37c-.4-.4-.92-.59-1.43-.59-.52 0-1.04.2-1.43.59L10.3 9.45l-7.72 7.72c-.78.78-.78 2.05 0 2.83L4 21.41c.39.39.9.59 1.41.59.51 0 1.02-.2 1.41-.59l7.78-7.78 2.81-2.81c.8-.78.8-2.07 0-2.86zM5.41 20L4 18.59l7.72-7.72 1.47 1.35L5.41 20z\"/>\n",
              "  </svg>\n",
              "      </button>\n",
              "      \n",
              "  <style>\n",
              "    .colab-df-container {\n",
              "      display:flex;\n",
              "      flex-wrap:wrap;\n",
              "      gap: 12px;\n",
              "    }\n",
              "\n",
              "    .colab-df-convert {\n",
              "      background-color: #E8F0FE;\n",
              "      border: none;\n",
              "      border-radius: 50%;\n",
              "      cursor: pointer;\n",
              "      display: none;\n",
              "      fill: #1967D2;\n",
              "      height: 32px;\n",
              "      padding: 0 0 0 0;\n",
              "      width: 32px;\n",
              "    }\n",
              "\n",
              "    .colab-df-convert:hover {\n",
              "      background-color: #E2EBFA;\n",
              "      box-shadow: 0px 1px 2px rgba(60, 64, 67, 0.3), 0px 1px 3px 1px rgba(60, 64, 67, 0.15);\n",
              "      fill: #174EA6;\n",
              "    }\n",
              "\n",
              "    [theme=dark] .colab-df-convert {\n",
              "      background-color: #3B4455;\n",
              "      fill: #D2E3FC;\n",
              "    }\n",
              "\n",
              "    [theme=dark] .colab-df-convert:hover {\n",
              "      background-color: #434B5C;\n",
              "      box-shadow: 0px 1px 3px 1px rgba(0, 0, 0, 0.15);\n",
              "      filter: drop-shadow(0px 1px 2px rgba(0, 0, 0, 0.3));\n",
              "      fill: #FFFFFF;\n",
              "    }\n",
              "  </style>\n",
              "\n",
              "      <script>\n",
              "        const buttonEl =\n",
              "          document.querySelector('#df-c41538fb-0cc0-42dd-a49d-454e2c21cdb7 button.colab-df-convert');\n",
              "        buttonEl.style.display =\n",
              "          google.colab.kernel.accessAllowed ? 'block' : 'none';\n",
              "\n",
              "        async function convertToInteractive(key) {\n",
              "          const element = document.querySelector('#df-c41538fb-0cc0-42dd-a49d-454e2c21cdb7');\n",
              "          const dataTable =\n",
              "            await google.colab.kernel.invokeFunction('convertToInteractive',\n",
              "                                                     [key], {});\n",
              "          if (!dataTable) return;\n",
              "\n",
              "          const docLinkHtml = 'Like what you see? Visit the ' +\n",
              "            '<a target=\"_blank\" href=https://colab.research.google.com/notebooks/data_table.ipynb>data table notebook</a>'\n",
              "            + ' to learn more about interactive tables.';\n",
              "          element.innerHTML = '';\n",
              "          dataTable['output_type'] = 'display_data';\n",
              "          await google.colab.output.renderOutput(dataTable, element);\n",
              "          const docLink = document.createElement('div');\n",
              "          docLink.innerHTML = docLinkHtml;\n",
              "          element.appendChild(docLink);\n",
              "        }\n",
              "      </script>\n",
              "    </div>\n",
              "  </div>\n",
              "  "
            ]
          },
          "metadata": {},
          "execution_count": 27
        }
      ],
      "source": [
        "import pandas as pd\n",
        "\n",
        "DIR = '/content/drive/MyDrive/music4all/'\n",
        "df_genre_by_lang = pd.read_csv(DIR + 'kaggle/df_kaggle.csv')\n",
        "df_genre_by_lang = df_genre_by_lang.drop(columns = ['Unnamed: 0'])\n",
        "df_genre_by_lang"
      ]
    },
    {
      "cell_type": "code",
      "execution_count": 28,
      "metadata": {
        "id": "PrRidTBHhmYp"
      },
      "outputs": [],
      "source": [
        "def load_data(df_col, y):\n",
        "    texts, labels = [], []\n",
        "    \n",
        "    for line in df_col:\n",
        "        # texts are already tokenized, just split on space\n",
        "        # in a real use-case we would put more effort in preprocessing\n",
        "        texts.append(line.split(' '))\n",
        "    return pd.DataFrame({'texts': texts, 'labels': y})"
      ]
    },
    {
      "cell_type": "code",
      "execution_count": 29,
      "metadata": {
        "id": "n5VJWiA6iJu2"
      },
      "outputs": [],
      "source": [
        "data = load_data(df_genre_by_lang[\"Lyrics\"], df_genre_by_lang[\"Genre\"])"
      ]
    },
    {
      "cell_type": "code",
      "execution_count": 30,
      "metadata": {
        "colab": {
          "base_uri": "https://localhost:8080/",
          "height": 0
        },
        "id": "bWI4V7oXiWw6",
        "outputId": "27f34879-0b18-41c0-de60-f5b1ffc2c2e1"
      },
      "outputs": [
        {
          "output_type": "execute_result",
          "data": {
            "text/plain": [
              "                                                    texts   labels\n",
              "0       [Most, folks, spend, their, days, daydreaming,...  Hip-Hop\n",
              "1       [Take, your, cold, hands, and, put, them, on, ...    Indie\n",
              "2       [Are, you, ready, it's, time, for, war\\nWe'll,...    Metal\n",
              "3       [You, ask, me, why, I, change, the, color, of,...      Pop\n",
              "4       [Do, you, believe, in, magic, in, a, young, gi...  Hip-Hop\n",
              "...                                                   ...      ...\n",
              "258117  [I'm, the, best, friend, he's, got, I'd, give,...      R&B\n",
              "258118  [Bad, Boys, Blue, \"I, Totally, Miss, You\", I, ...      Pop\n",
              "258119  [Forgive, me, for, the, things, That, I, never...      Pop\n",
              "258120  [The, day, they, found, a, cure, for, AIDS, Th...    Indie\n",
              "258121  [Fourth, of, July, has, come,, it's, custom, t...      Pop\n",
              "\n",
              "[258122 rows x 2 columns]"
            ],
            "text/html": [
              "\n",
              "  <div id=\"df-a3e48b7a-a614-4ed3-819d-7e43a5dbb9a2\">\n",
              "    <div class=\"colab-df-container\">\n",
              "      <div>\n",
              "<style scoped>\n",
              "    .dataframe tbody tr th:only-of-type {\n",
              "        vertical-align: middle;\n",
              "    }\n",
              "\n",
              "    .dataframe tbody tr th {\n",
              "        vertical-align: top;\n",
              "    }\n",
              "\n",
              "    .dataframe thead th {\n",
              "        text-align: right;\n",
              "    }\n",
              "</style>\n",
              "<table border=\"1\" class=\"dataframe\">\n",
              "  <thead>\n",
              "    <tr style=\"text-align: right;\">\n",
              "      <th></th>\n",
              "      <th>texts</th>\n",
              "      <th>labels</th>\n",
              "    </tr>\n",
              "  </thead>\n",
              "  <tbody>\n",
              "    <tr>\n",
              "      <th>0</th>\n",
              "      <td>[Most, folks, spend, their, days, daydreaming,...</td>\n",
              "      <td>Hip-Hop</td>\n",
              "    </tr>\n",
              "    <tr>\n",
              "      <th>1</th>\n",
              "      <td>[Take, your, cold, hands, and, put, them, on, ...</td>\n",
              "      <td>Indie</td>\n",
              "    </tr>\n",
              "    <tr>\n",
              "      <th>2</th>\n",
              "      <td>[Are, you, ready, it's, time, for, war\\nWe'll,...</td>\n",
              "      <td>Metal</td>\n",
              "    </tr>\n",
              "    <tr>\n",
              "      <th>3</th>\n",
              "      <td>[You, ask, me, why, I, change, the, color, of,...</td>\n",
              "      <td>Pop</td>\n",
              "    </tr>\n",
              "    <tr>\n",
              "      <th>4</th>\n",
              "      <td>[Do, you, believe, in, magic, in, a, young, gi...</td>\n",
              "      <td>Hip-Hop</td>\n",
              "    </tr>\n",
              "    <tr>\n",
              "      <th>...</th>\n",
              "      <td>...</td>\n",
              "      <td>...</td>\n",
              "    </tr>\n",
              "    <tr>\n",
              "      <th>258117</th>\n",
              "      <td>[I'm, the, best, friend, he's, got, I'd, give,...</td>\n",
              "      <td>R&amp;B</td>\n",
              "    </tr>\n",
              "    <tr>\n",
              "      <th>258118</th>\n",
              "      <td>[Bad, Boys, Blue, \"I, Totally, Miss, You\", I, ...</td>\n",
              "      <td>Pop</td>\n",
              "    </tr>\n",
              "    <tr>\n",
              "      <th>258119</th>\n",
              "      <td>[Forgive, me, for, the, things, That, I, never...</td>\n",
              "      <td>Pop</td>\n",
              "    </tr>\n",
              "    <tr>\n",
              "      <th>258120</th>\n",
              "      <td>[The, day, they, found, a, cure, for, AIDS, Th...</td>\n",
              "      <td>Indie</td>\n",
              "    </tr>\n",
              "    <tr>\n",
              "      <th>258121</th>\n",
              "      <td>[Fourth, of, July, has, come,, it's, custom, t...</td>\n",
              "      <td>Pop</td>\n",
              "    </tr>\n",
              "  </tbody>\n",
              "</table>\n",
              "<p>258122 rows × 2 columns</p>\n",
              "</div>\n",
              "      <button class=\"colab-df-convert\" onclick=\"convertToInteractive('df-a3e48b7a-a614-4ed3-819d-7e43a5dbb9a2')\"\n",
              "              title=\"Convert this dataframe to an interactive table.\"\n",
              "              style=\"display:none;\">\n",
              "        \n",
              "  <svg xmlns=\"http://www.w3.org/2000/svg\" height=\"24px\"viewBox=\"0 0 24 24\"\n",
              "       width=\"24px\">\n",
              "    <path d=\"M0 0h24v24H0V0z\" fill=\"none\"/>\n",
              "    <path d=\"M18.56 5.44l.94 2.06.94-2.06 2.06-.94-2.06-.94-.94-2.06-.94 2.06-2.06.94zm-11 1L8.5 8.5l.94-2.06 2.06-.94-2.06-.94L8.5 2.5l-.94 2.06-2.06.94zm10 10l.94 2.06.94-2.06 2.06-.94-2.06-.94-.94-2.06-.94 2.06-2.06.94z\"/><path d=\"M17.41 7.96l-1.37-1.37c-.4-.4-.92-.59-1.43-.59-.52 0-1.04.2-1.43.59L10.3 9.45l-7.72 7.72c-.78.78-.78 2.05 0 2.83L4 21.41c.39.39.9.59 1.41.59.51 0 1.02-.2 1.41-.59l7.78-7.78 2.81-2.81c.8-.78.8-2.07 0-2.86zM5.41 20L4 18.59l7.72-7.72 1.47 1.35L5.41 20z\"/>\n",
              "  </svg>\n",
              "      </button>\n",
              "      \n",
              "  <style>\n",
              "    .colab-df-container {\n",
              "      display:flex;\n",
              "      flex-wrap:wrap;\n",
              "      gap: 12px;\n",
              "    }\n",
              "\n",
              "    .colab-df-convert {\n",
              "      background-color: #E8F0FE;\n",
              "      border: none;\n",
              "      border-radius: 50%;\n",
              "      cursor: pointer;\n",
              "      display: none;\n",
              "      fill: #1967D2;\n",
              "      height: 32px;\n",
              "      padding: 0 0 0 0;\n",
              "      width: 32px;\n",
              "    }\n",
              "\n",
              "    .colab-df-convert:hover {\n",
              "      background-color: #E2EBFA;\n",
              "      box-shadow: 0px 1px 2px rgba(60, 64, 67, 0.3), 0px 1px 3px 1px rgba(60, 64, 67, 0.15);\n",
              "      fill: #174EA6;\n",
              "    }\n",
              "\n",
              "    [theme=dark] .colab-df-convert {\n",
              "      background-color: #3B4455;\n",
              "      fill: #D2E3FC;\n",
              "    }\n",
              "\n",
              "    [theme=dark] .colab-df-convert:hover {\n",
              "      background-color: #434B5C;\n",
              "      box-shadow: 0px 1px 3px 1px rgba(0, 0, 0, 0.15);\n",
              "      filter: drop-shadow(0px 1px 2px rgba(0, 0, 0, 0.3));\n",
              "      fill: #FFFFFF;\n",
              "    }\n",
              "  </style>\n",
              "\n",
              "      <script>\n",
              "        const buttonEl =\n",
              "          document.querySelector('#df-a3e48b7a-a614-4ed3-819d-7e43a5dbb9a2 button.colab-df-convert');\n",
              "        buttonEl.style.display =\n",
              "          google.colab.kernel.accessAllowed ? 'block' : 'none';\n",
              "\n",
              "        async function convertToInteractive(key) {\n",
              "          const element = document.querySelector('#df-a3e48b7a-a614-4ed3-819d-7e43a5dbb9a2');\n",
              "          const dataTable =\n",
              "            await google.colab.kernel.invokeFunction('convertToInteractive',\n",
              "                                                     [key], {});\n",
              "          if (!dataTable) return;\n",
              "\n",
              "          const docLinkHtml = 'Like what you see? Visit the ' +\n",
              "            '<a target=\"_blank\" href=https://colab.research.google.com/notebooks/data_table.ipynb>data table notebook</a>'\n",
              "            + ' to learn more about interactive tables.';\n",
              "          element.innerHTML = '';\n",
              "          dataTable['output_type'] = 'display_data';\n",
              "          await google.colab.output.renderOutput(dataTable, element);\n",
              "          const docLink = document.createElement('div');\n",
              "          docLink.innerHTML = docLinkHtml;\n",
              "          element.appendChild(docLink);\n",
              "        }\n",
              "      </script>\n",
              "    </div>\n",
              "  </div>\n",
              "  "
            ]
          },
          "metadata": {},
          "execution_count": 30
        }
      ],
      "source": [
        "data"
      ]
    },
    {
      "cell_type": "code",
      "execution_count": 31,
      "metadata": {
        "id": "iTROinyfjc6u"
      },
      "outputs": [],
      "source": [
        "data['labels'] = data['labels'].astype('category')\n",
        "label_mapping = data['labels'].cat.categories\n",
        "data['labels'] = data['labels'].cat.codes\n",
        "X = data['texts']\n",
        "y = data['labels']"
      ]
    },
    {
      "cell_type": "code",
      "execution_count": 32,
      "metadata": {
        "colab": {
          "base_uri": "https://localhost:8080/"
        },
        "id": "d32Ub0-kjoOj",
        "outputId": "e46f687c-a50f-47d7-de1c-859c6e6fb1d8"
      },
      "outputs": [
        {
          "output_type": "execute_result",
          "data": {
            "text/plain": [
              "pandas.core.series.Series"
            ]
          },
          "metadata": {},
          "execution_count": 32
        }
      ],
      "source": [
        "type(X)"
      ]
    },
    {
      "cell_type": "code",
      "execution_count": 33,
      "metadata": {
        "id": "GnAEWk_Lza7f"
      },
      "outputs": [],
      "source": [
        "def StratifiedKFold_feature_and_df_glove(df, feature_list, y_name):\n",
        "  skf = StratifiedKFold(n_splits=5, shuffle=True, random_state=1209)  # 20% for test set \n",
        "  y = df[y_name]\n",
        "  skf.get_n_splits(df[ feature_list ], y)\n",
        "\n",
        "  splits = []\n",
        "\n",
        "  for train_index, test_index in skf.split(df[ feature_list ], y):\n",
        "      print(\"TRAIN:\", train_index, \"TEST:\", test_index)\n",
        "      X_train, X_test = df[ feature_list ].loc[train_index], df[ feature_list ].loc[test_index]\n",
        "      y_train, y_test = y.loc[train_index], y.loc[test_index]\n",
        "      splits.append({'X_train': X_train, 'X_test': X_test, 'y_train':y_train, 'y_test':y_test })\n",
        "  return splits"
      ]
    },
    {
      "cell_type": "code",
      "execution_count": 34,
      "metadata": {
        "id": "1qOv6pF0BcrV"
      },
      "outputs": [],
      "source": [
        "def StratifiedKFold_feature_and_df(X, y):\n",
        "  skf = StratifiedKFold(n_splits=5, shuffle=True, random_state=1209)  # 20% for test set \n",
        "  #y = df[y_name]\n",
        "  skf.get_n_splits(X, y)#df[ feature_list ]\n",
        "\n",
        "  splits = []\n",
        "\n",
        "  for train_index, test_index in skf.split(X, y):#df[ feature_list ]\n",
        "      print(\"TRAIN:\", train_index, \"TEST:\", test_index)\n",
        "      X_train, X_test = X.loc[train_index], X.loc[test_index]\n",
        "      y_train, y_test = y.loc[train_index], y.loc[test_index]\n",
        "      splits.append({'X_train': X_train, 'X_test': X_test, 'y_train':y_train, 'y_test':y_test })\n",
        "  return splits"
      ]
    },
    {
      "cell_type": "code",
      "execution_count": 35,
      "metadata": {
        "colab": {
          "base_uri": "https://localhost:8080/"
        },
        "id": "_FGZPLOeBg4R",
        "outputId": "c209e9cb-1287-4f75-9349-b5d9163e401f"
      },
      "outputs": [
        {
          "output_type": "stream",
          "name": "stdout",
          "text": [
            "TRAIN: [     1      2      4 ... 258118 258120 258121] TEST: [     0      3      6 ... 258105 258112 258119]\n",
            "TRAIN: [     0      1      2 ... 258119 258120 258121] TEST: [     7     15     20 ... 258110 258113 258114]\n",
            "TRAIN: [     0      1      3 ... 258118 258119 258121] TEST: [     2      5     12 ... 258091 258116 258120]\n",
            "TRAIN: [     0      2      3 ... 258119 258120 258121] TEST: [     1      8     10 ... 258102 258106 258118]\n",
            "TRAIN: [     0      1      2 ... 258118 258119 258120] TEST: [     4     13     16 ... 258115 258117 258121]\n"
          ]
        }
      ],
      "source": [
        "#feature_list = [\"texts\"] #this is BOW and TF-IDF\n",
        "#splits = StratifiedKFold_feature_and_df( data, feature_list, 'labels')\n",
        "splits = StratifiedKFold_feature_and_df( X,y)"
      ]
    },
    {
      "cell_type": "code",
      "execution_count": 36,
      "metadata": {
        "colab": {
          "base_uri": "https://localhost:8080/"
        },
        "id": "UsQYbmVUWPU9",
        "outputId": "d9c57cea-2545-497d-e431-ce7681c32069"
      },
      "outputs": [
        {
          "output_type": "execute_result",
          "data": {
            "text/plain": [
              "5"
            ]
          },
          "metadata": {},
          "execution_count": 36
        }
      ],
      "source": [
        "len(splits)"
      ]
    },
    {
      "cell_type": "code",
      "execution_count": 37,
      "metadata": {
        "colab": {
          "base_uri": "https://localhost:8080/"
        },
        "id": "rDMBs_gWCSLa",
        "outputId": "144cc505-1598-4acb-b554-35e623876bc0"
      },
      "outputs": [
        {
          "output_type": "stream",
          "name": "stdout",
          "text": [
            "(206497,)\n",
            "(206497,)\n",
            "(51625,)\n",
            "(51625,)\n"
          ]
        }
      ],
      "source": [
        "split0=splits[0]\n",
        "print(split0['X_train'].shape)\n",
        "print(split0['y_train'].shape)\n",
        "print(split0['X_test'].shape)\n",
        "print(split0['y_test'].shape)"
      ]
    },
    {
      "cell_type": "code",
      "execution_count": 38,
      "metadata": {
        "colab": {
          "base_uri": "https://localhost:8080/"
        },
        "id": "iaMmpM44is_p",
        "outputId": "c0afedcb-b89f-44fd-90fd-4571b588fe6f"
      },
      "outputs": [
        {
          "output_type": "execute_result",
          "data": {
            "text/plain": [
              "1         [Take, your, cold, hands, and, put, them, on, ...\n",
              "2         [Are, you, ready, it's, time, for, war\\nWe'll,...\n",
              "4         [Do, you, believe, in, magic, in, a, young, gi...\n",
              "5         [People, starin', at, me, as, they, wheel, me,...\n",
              "7         [Tell, Mel, Shawn, to, come, in\\nWord,, yo,, o...\n",
              "                                ...                        \n",
              "258116    [It's, complicated, It, always, is, That's, ju...\n",
              "258117    [I'm, the, best, friend, he's, got, I'd, give,...\n",
              "258118    [Bad, Boys, Blue, \"I, Totally, Miss, You\", I, ...\n",
              "258120    [The, day, they, found, a, cure, for, AIDS, Th...\n",
              "258121    [Fourth, of, July, has, come,, it's, custom, t...\n",
              "Name: texts, Length: 206497, dtype: object"
            ]
          },
          "metadata": {},
          "execution_count": 38
        }
      ],
      "source": [
        "split0['X_train']"
      ]
    },
    {
      "cell_type": "code",
      "execution_count": 39,
      "metadata": {
        "colab": {
          "base_uri": "https://localhost:8080/"
        },
        "id": "5qTuHLEe8Aqg",
        "outputId": "7c676153-4d5c-40d9-df7b-39eab7309a8e"
      },
      "outputs": [
        {
          "output_type": "execute_result",
          "data": {
            "text/plain": [
              "1         4\n",
              "2         6\n",
              "4         3\n",
              "5         0\n",
              "7         3\n",
              "         ..\n",
              "258116    1\n",
              "258117    8\n",
              "258118    7\n",
              "258120    4\n",
              "258121    7\n",
              "Name: labels, Length: 206497, dtype: int8"
            ]
          },
          "metadata": {},
          "execution_count": 39
        }
      ],
      "source": [
        "split0['y_train']"
      ]
    },
    {
      "cell_type": "code",
      "execution_count": 40,
      "metadata": {
        "colab": {
          "base_uri": "https://localhost:8080/"
        },
        "id": "LEwhawfYngu6",
        "outputId": "19704600-d0f5-440b-8bac-dab162792a2c"
      },
      "outputs": [
        {
          "output_type": "execute_result",
          "data": {
            "text/plain": [
              "[('Electronic', 2664),\n",
              " ('Country', 2700),\n",
              " ('Hip-Hop', 3198),\n",
              " ('R&B', 3273),\n",
              " ('Indie', 7750),\n",
              " ('Folk', 8660),\n",
              " ('Jazz', 13974),\n",
              " ('Metal', 19943),\n",
              " ('Pop', 87405),\n",
              " ('Rock', 108555)]"
            ]
          },
          "metadata": {},
          "execution_count": 40
        }
      ],
      "source": [
        "counter_origin = Counter(df_genre_by_lang['Genre'])\n",
        "counter_origin = sorted(counter_origin.items(), key= lambda k:k[1])\n",
        "counter_origin"
      ]
    },
    {
      "cell_type": "code",
      "execution_count": 41,
      "metadata": {
        "colab": {
          "base_uri": "https://localhost:8080/"
        },
        "id": "0GkeM5EnnZwG",
        "outputId": "b350f16a-4e98-4403-f730-c07bad70ab60"
      },
      "outputs": [
        {
          "output_type": "execute_result",
          "data": {
            "text/plain": [
              "[(1, 2131),\n",
              " (0, 2160),\n",
              " (3, 2558),\n",
              " (8, 2618),\n",
              " (4, 6200),\n",
              " (2, 6928),\n",
              " (5, 11180),\n",
              " (6, 15954),\n",
              " (7, 69924),\n",
              " (9, 86844)]"
            ]
          },
          "metadata": {},
          "execution_count": 41
        }
      ],
      "source": [
        "counter_code = Counter(split0['y_train'])\n",
        "counter_code= sorted(counter_code.items(), key= lambda k:k[1])\n",
        "counter_code"
      ]
    },
    {
      "cell_type": "code",
      "execution_count": 42,
      "metadata": {
        "colab": {
          "base_uri": "https://localhost:8080/"
        },
        "id": "93MA4icMnnKV",
        "outputId": "51b6c849-02a9-4314-f2a8-040acfcb42ea"
      },
      "outputs": [
        {
          "output_type": "execute_result",
          "data": {
            "text/plain": [
              "{0: 'Country',\n",
              " 1: 'Electronic',\n",
              " 3: 'Hip-Hop',\n",
              " 8: 'R&B',\n",
              " 4: 'Indie',\n",
              " 2: 'Folk',\n",
              " 5: 'Jazz',\n",
              " 6: 'Metal',\n",
              " 7: 'Pop',\n",
              " 9: 'Rock'}"
            ]
          },
          "metadata": {},
          "execution_count": 42
        }
      ],
      "source": [
        "code2genre = {\n",
        "    0: 'Country'\n",
        "    , 1: 'Electronic'\n",
        "    , 3:'Hip-Hop'\n",
        "    , 8:'R&B'\n",
        "    , 4: 'Indie'\n",
        "    ,2: 'Folk'\n",
        "    ,5: 'Jazz'\n",
        "    ,6: 'Metal'\n",
        "    ,7: 'Pop'\n",
        "    ,9: 'Rock'\n",
        "}\n",
        "code2genre"
      ]
    },
    {
      "cell_type": "markdown",
      "metadata": {
        "id": "TZG8klxT_tga"
      },
      "source": [
        "###  Train and Test flow\n",
        "\n",
        "Step1: Kfold Stratified Split\n",
        "\n",
        "Step2: For X_train, get Bag-of-Words feature using TF-IDF.\n",
        "\n",
        "Step3: clf.fit(X_train, y_train)\n",
        "\n",
        "Step4: transform X_test['lyric'] to TF-IDF\n",
        "\n",
        "Step5: Predict by, clf_predict = clf.predict(X_test_tf-idf)\n",
        "\n",
        "Step6: Compare (clf_predict, y_test)"
      ]
    },
    {
      "cell_type": "markdown",
      "metadata": {
        "id": "eCU9VlVQfNjq"
      },
      "source": [
        "Multinomial Nayve Bayes trained on TF-IDF embedding. Test KFold mean"
      ]
    },
    {
      "cell_type": "markdown",
      "source": [
        "### Testing"
      ],
      "metadata": {
        "id": "dYBCsVliropt"
      }
    },
    {
      "cell_type": "code",
      "execution_count": 19,
      "metadata": {
        "colab": {
          "base_uri": "https://localhost:8080/"
        },
        "id": "uOcpAXzBfX4s",
        "outputId": "8826ed2c-0fef-4be1-e2a7-fe251259e495"
      },
      "outputs": [
        {
          "output_type": "execute_result",
          "data": {
            "text/plain": [
              "1         [Take, your, cold, hands, and, put, them, on, ...\n",
              "2         [Are, you, ready, it's, time, for, war\\nWe'll,...\n",
              "4         [Do, you, believe, in, magic, in, a, young, gi...\n",
              "5         [People, starin', at, me, as, they, wheel, me,...\n",
              "7         [Tell, Mel, Shawn, to, come, in\\nWord,, yo,, o...\n",
              "                                ...                        \n",
              "258116    [It's, complicated, It, always, is, That's, ju...\n",
              "258117    [I'm, the, best, friend, he's, got, I'd, give,...\n",
              "258118    [Bad, Boys, Blue, \"I, Totally, Miss, You\", I, ...\n",
              "258120    [The, day, they, found, a, cure, for, AIDS, Th...\n",
              "258121    [Fourth, of, July, has, come,, it's, custom, t...\n",
              "Name: texts, Length: 206497, dtype: object"
            ]
          },
          "metadata": {},
          "execution_count": 19
        }
      ],
      "source": [
        "split0['X_train']"
      ]
    },
    {
      "cell_type": "code",
      "execution_count": 20,
      "metadata": {
        "id": "lxRQ_7qNGCW4"
      },
      "outputs": [],
      "source": [
        "def get_needs_one_epoch(y_train):\n",
        "  needs_per_genre = {}\n",
        "\n",
        "  for genre in Counter(split0['y_train']):\n",
        "    needs_per_genre[genre] = int(Counter(split0['y_train'])[genre]/10)\n",
        "  #print(Counter(split0['y_train']))\n",
        "  #print(needs_per_genre)\n",
        "  return needs_per_genre"
      ]
    },
    {
      "cell_type": "code",
      "execution_count": 40,
      "metadata": {
        "colab": {
          "base_uri": "https://localhost:8080/"
        },
        "id": "QbKyWaEcGMph",
        "outputId": "865ff53d-40fc-4ada-8706-ac12c21fb381"
      },
      "outputs": [
        {
          "output_type": "execute_result",
          "data": {
            "text/plain": [
              "20649"
            ]
          },
          "metadata": {},
          "execution_count": 40
        }
      ],
      "source": [
        "EPOCH=10\n",
        "ONE_SIZE = int(len(split0['y_train'])/EPOCH)\n",
        "ONE_SIZE"
      ]
    },
    {
      "cell_type": "code",
      "execution_count": 22,
      "metadata": {
        "colab": {
          "base_uri": "https://localhost:8080/"
        },
        "id": "IKrlp1JfH7yr",
        "outputId": "ba0169d7-8e1f-4dcf-fcef-e5036216c93e"
      },
      "outputs": [
        {
          "output_type": "execute_result",
          "data": {
            "text/plain": [
              "{4: 620,\n",
              " 6: 1595,\n",
              " 3: 255,\n",
              " 0: 216,\n",
              " 7: 6992,\n",
              " 5: 1118,\n",
              " 9: 8684,\n",
              " 1: 213,\n",
              " 2: 692,\n",
              " 8: 261}"
            ]
          },
          "metadata": {},
          "execution_count": 22
        }
      ],
      "source": [
        "needs_per_genre = get_needs_one_epoch(split0['y_train'])\n",
        "needs_per_genre"
      ]
    },
    {
      "cell_type": "code",
      "execution_count": null,
      "metadata": {
        "colab": {
          "base_uri": "https://localhost:8080/"
        },
        "id": "lY48MK5gGZPQ",
        "outputId": "0871181c-0056-44a0-e896-c08d203fc63d"
      },
      "outputs": [
        {
          "name": "stdout",
          "output_type": "stream",
          "text": [
            "Counter({9: 11243, 7: 3162, 6: 2556, 3: 763, 0: 638, 1: 530, 5: 521, 4: 435, 8: 413, 2: 388})\n",
            "Counter({9: 13684, 7: 3631, 6: 2551, 2: 555, 4: 208, 1: 20})\n",
            "Counter({7: 10811, 9: 8522, 6: 942, 4: 373, 8: 1})\n",
            "Counter({7: 17879, 9: 2411, 2: 198, 4: 153, 8: 8})\n",
            "Counter({7: 8708, 9: 7551, 5: 1783, 6: 1000, 2: 813, 4: 658, 8: 94, 1: 42})\n",
            "Counter({9: 10283, 7: 4488, 5: 2038, 6: 1778, 2: 949, 4: 837, 8: 162, 1: 114})\n",
            "Counter({9: 9359, 7: 5388, 5: 2126, 6: 1628, 2: 1109, 4: 802, 8: 188, 1: 49})\n",
            "Counter({9: 9556, 7: 6171, 6: 1610, 5: 1441, 2: 779, 4: 672, 8: 380, 1: 40})\n",
            "Counter({9: 9335, 7: 5417, 5: 1928, 6: 1889, 2: 954, 4: 822, 8: 229, 1: 75})\n",
            "Counter({9: 4900, 7: 4266, 6: 2000, 3: 1795, 0: 1522, 5: 1343, 1: 1260, 4: 1238, 2: 1183, 8: 1142})\n"
          ]
        }
      ],
      "source": [
        "\n",
        "for count in range(EPOCH):\n",
        "  print(Counter(split0['y_train'][ONE_SIZE*count:ONE_SIZE*(count+1)]))"
      ]
    },
    {
      "cell_type": "code",
      "execution_count": 59,
      "metadata": {
        "colab": {
          "base_uri": "https://localhost:8080/"
        },
        "id": "SIpvXGLkfLNN",
        "outputId": "dad73b6d-8c2a-4f70-bcdf-d55237da77f5"
      },
      "outputs": [
        {
          "output_type": "stream",
          "name": "stderr",
          "text": [
            "/usr/local/lib/python3.7/dist-packages/sklearn/utils/deprecation.py:87: FutureWarning: Function get_feature_names is deprecated; get_feature_names is deprecated in 1.0 and will be removed in 1.2. Please use get_feature_names_out instead.\n",
            "  warnings.warn(msg, category=FutureWarning)\n"
          ]
        }
      ],
      "source": [
        "from nltk.corpus import words\n",
        "from sklearn.metrics import accuracy_score,classification_report\n",
        "from sklearn.feature_extraction.text import TfidfVectorizer\n",
        "from sklearn.naive_bayes import MultinomialNB\n",
        "from imblearn.over_sampling import SMOTE\n",
        "from sklearn.metrics import balanced_accuracy_score\n",
        "\n",
        "\n",
        "split0 = splits[0]\n",
        "for i, token_list in split0['X_train'].items():\n",
        "  \"\"\"\n",
        "  document = \"\"\n",
        "  for word in token_list:\n",
        "    if word in words.words():\n",
        "      document += ' '\n",
        "      document += word\n",
        "  \"\"\"\n",
        "  split0['X_train'][i] =  ' '.join(token_list)\n",
        "\n",
        "for i, token_list in split0['X_test'].items():\n",
        "  \"\"\"\n",
        "  document = \"\"\n",
        "  for word in token_list:\n",
        "    if word in words.words():\n",
        "      document += ' '\n",
        "      document += word\n",
        "  \"\"\"\n",
        "  split0['X_test'][i] =  ' '.join(token_list)\n",
        "\n",
        "tfidf_vectorizer = TfidfVectorizer(analyzer=\"word\", stop_words='english', max_df=0.9, min_df=0.01)#max_features=10000\n",
        "X_train_tfidf = tfidf_vectorizer.fit_transform(split0['X_train']).toarray()\n",
        "X_test_tfidf = tfidf_vectorizer.transform(split0['X_test']).toarray()\n",
        "\n",
        "df_X_train_tfidf = pd.DataFrame(X_train_tfidf\n",
        "                              ,index = split0['X_train'].index\n",
        "                            , columns=tfidf_vectorizer.get_feature_names())\n",
        "del(X_train_tfidf)\n"
      ]
    },
    {
      "cell_type": "code",
      "source": [
        "df_X_train_tfidf"
      ],
      "metadata": {
        "colab": {
          "base_uri": "https://localhost:8080/",
          "height": 488
        },
        "id": "SnZ3NDSbmm7x",
        "outputId": "86be8670-45ba-4cc3-a917-006275653adb"
      },
      "execution_count": 60,
      "outputs": [
        {
          "output_type": "execute_result",
          "data": {
            "text/plain": [
              "         2x  act    afraid  age  ago        ah  ahead       ain  aint  \\\n",
              "1       0.0  0.0  0.000000  0.0  0.0  0.000000    0.0  0.000000   0.0   \n",
              "2       0.0  0.0  0.000000  0.0  0.0  0.000000    0.0  0.000000   0.0   \n",
              "4       0.0  0.0  0.000000  0.0  0.0  0.000000    0.0  0.000000   0.0   \n",
              "5       0.0  0.0  0.086976  0.0  0.0  0.000000    0.0  0.000000   0.0   \n",
              "7       0.0  0.0  0.000000  0.0  0.0  0.000000    0.0  0.034518   0.0   \n",
              "...     ...  ...       ...  ...  ...       ...    ...       ...   ...   \n",
              "258116  0.0  0.0  0.000000  0.0  0.0  0.268642    0.0  0.000000   0.0   \n",
              "258117  0.0  0.0  0.000000  0.0  0.0  0.000000    0.0  0.000000   0.0   \n",
              "258118  0.0  0.0  0.000000  0.0  0.0  0.000000    0.0  0.000000   0.0   \n",
              "258120  0.0  0.0  0.097178  0.0  0.0  0.000000    0.0  0.000000   0.0   \n",
              "258121  0.0  0.0  0.000000  0.0  0.0  0.000000    0.0  0.000000   0.0   \n",
              "\n",
              "            air  ...   ya  yea      yeah      year     years       yes  \\\n",
              "1       0.00000  ...  0.0  0.0  0.000000  0.000000  0.000000  0.000000   \n",
              "2       0.00000  ...  0.0  0.0  0.000000  0.000000  0.000000  0.000000   \n",
              "4       0.00000  ...  0.0  0.0  0.052036  0.000000  0.000000  0.000000   \n",
              "5       0.00000  ...  0.0  0.0  0.000000  0.000000  0.000000  0.072762   \n",
              "7       0.05093  ...  0.0  0.0  0.031914  0.058090  0.049161  0.000000   \n",
              "...         ...  ...  ...  ...       ...       ...       ...       ...   \n",
              "258116  0.00000  ...  0.0  0.0  0.154997  0.000000  0.000000  0.000000   \n",
              "258117  0.00000  ...  0.0  0.0  0.000000  0.000000  0.000000  0.000000   \n",
              "258118  0.00000  ...  0.0  0.0  0.000000  0.000000  0.000000  0.000000   \n",
              "258120  0.00000  ...  0.0  0.0  0.000000  0.000000  0.000000  0.000000   \n",
              "258121  0.00000  ...  0.0  0.0  0.000000  0.344286  0.194245  0.000000   \n",
              "\n",
              "        yesterday        yo      york     young  \n",
              "1             0.0  0.000000  0.000000  0.000000  \n",
              "2             0.0  0.000000  0.000000  0.000000  \n",
              "4             0.0  0.000000  0.000000  0.078477  \n",
              "5             0.0  0.000000  0.000000  0.000000  \n",
              "7             0.0  0.421158  0.068648  0.000000  \n",
              "...           ...       ...       ...       ...  \n",
              "258116        0.0  0.000000  0.000000  0.000000  \n",
              "258117        0.0  0.000000  0.000000  0.000000  \n",
              "258118        0.0  0.000000  0.000000  0.000000  \n",
              "258120        0.0  0.000000  0.000000  0.000000  \n",
              "258121        0.0  0.000000  0.000000  0.000000  \n",
              "\n",
              "[206497 rows x 961 columns]"
            ],
            "text/html": [
              "\n",
              "  <div id=\"df-34af8fee-ef08-4aee-94f2-b7ffc48cac66\">\n",
              "    <div class=\"colab-df-container\">\n",
              "      <div>\n",
              "<style scoped>\n",
              "    .dataframe tbody tr th:only-of-type {\n",
              "        vertical-align: middle;\n",
              "    }\n",
              "\n",
              "    .dataframe tbody tr th {\n",
              "        vertical-align: top;\n",
              "    }\n",
              "\n",
              "    .dataframe thead th {\n",
              "        text-align: right;\n",
              "    }\n",
              "</style>\n",
              "<table border=\"1\" class=\"dataframe\">\n",
              "  <thead>\n",
              "    <tr style=\"text-align: right;\">\n",
              "      <th></th>\n",
              "      <th>2x</th>\n",
              "      <th>act</th>\n",
              "      <th>afraid</th>\n",
              "      <th>age</th>\n",
              "      <th>ago</th>\n",
              "      <th>ah</th>\n",
              "      <th>ahead</th>\n",
              "      <th>ain</th>\n",
              "      <th>aint</th>\n",
              "      <th>air</th>\n",
              "      <th>...</th>\n",
              "      <th>ya</th>\n",
              "      <th>yea</th>\n",
              "      <th>yeah</th>\n",
              "      <th>year</th>\n",
              "      <th>years</th>\n",
              "      <th>yes</th>\n",
              "      <th>yesterday</th>\n",
              "      <th>yo</th>\n",
              "      <th>york</th>\n",
              "      <th>young</th>\n",
              "    </tr>\n",
              "  </thead>\n",
              "  <tbody>\n",
              "    <tr>\n",
              "      <th>1</th>\n",
              "      <td>0.0</td>\n",
              "      <td>0.0</td>\n",
              "      <td>0.000000</td>\n",
              "      <td>0.0</td>\n",
              "      <td>0.0</td>\n",
              "      <td>0.000000</td>\n",
              "      <td>0.0</td>\n",
              "      <td>0.000000</td>\n",
              "      <td>0.0</td>\n",
              "      <td>0.00000</td>\n",
              "      <td>...</td>\n",
              "      <td>0.0</td>\n",
              "      <td>0.0</td>\n",
              "      <td>0.000000</td>\n",
              "      <td>0.000000</td>\n",
              "      <td>0.000000</td>\n",
              "      <td>0.000000</td>\n",
              "      <td>0.0</td>\n",
              "      <td>0.000000</td>\n",
              "      <td>0.000000</td>\n",
              "      <td>0.000000</td>\n",
              "    </tr>\n",
              "    <tr>\n",
              "      <th>2</th>\n",
              "      <td>0.0</td>\n",
              "      <td>0.0</td>\n",
              "      <td>0.000000</td>\n",
              "      <td>0.0</td>\n",
              "      <td>0.0</td>\n",
              "      <td>0.000000</td>\n",
              "      <td>0.0</td>\n",
              "      <td>0.000000</td>\n",
              "      <td>0.0</td>\n",
              "      <td>0.00000</td>\n",
              "      <td>...</td>\n",
              "      <td>0.0</td>\n",
              "      <td>0.0</td>\n",
              "      <td>0.000000</td>\n",
              "      <td>0.000000</td>\n",
              "      <td>0.000000</td>\n",
              "      <td>0.000000</td>\n",
              "      <td>0.0</td>\n",
              "      <td>0.000000</td>\n",
              "      <td>0.000000</td>\n",
              "      <td>0.000000</td>\n",
              "    </tr>\n",
              "    <tr>\n",
              "      <th>4</th>\n",
              "      <td>0.0</td>\n",
              "      <td>0.0</td>\n",
              "      <td>0.000000</td>\n",
              "      <td>0.0</td>\n",
              "      <td>0.0</td>\n",
              "      <td>0.000000</td>\n",
              "      <td>0.0</td>\n",
              "      <td>0.000000</td>\n",
              "      <td>0.0</td>\n",
              "      <td>0.00000</td>\n",
              "      <td>...</td>\n",
              "      <td>0.0</td>\n",
              "      <td>0.0</td>\n",
              "      <td>0.052036</td>\n",
              "      <td>0.000000</td>\n",
              "      <td>0.000000</td>\n",
              "      <td>0.000000</td>\n",
              "      <td>0.0</td>\n",
              "      <td>0.000000</td>\n",
              "      <td>0.000000</td>\n",
              "      <td>0.078477</td>\n",
              "    </tr>\n",
              "    <tr>\n",
              "      <th>5</th>\n",
              "      <td>0.0</td>\n",
              "      <td>0.0</td>\n",
              "      <td>0.086976</td>\n",
              "      <td>0.0</td>\n",
              "      <td>0.0</td>\n",
              "      <td>0.000000</td>\n",
              "      <td>0.0</td>\n",
              "      <td>0.000000</td>\n",
              "      <td>0.0</td>\n",
              "      <td>0.00000</td>\n",
              "      <td>...</td>\n",
              "      <td>0.0</td>\n",
              "      <td>0.0</td>\n",
              "      <td>0.000000</td>\n",
              "      <td>0.000000</td>\n",
              "      <td>0.000000</td>\n",
              "      <td>0.072762</td>\n",
              "      <td>0.0</td>\n",
              "      <td>0.000000</td>\n",
              "      <td>0.000000</td>\n",
              "      <td>0.000000</td>\n",
              "    </tr>\n",
              "    <tr>\n",
              "      <th>7</th>\n",
              "      <td>0.0</td>\n",
              "      <td>0.0</td>\n",
              "      <td>0.000000</td>\n",
              "      <td>0.0</td>\n",
              "      <td>0.0</td>\n",
              "      <td>0.000000</td>\n",
              "      <td>0.0</td>\n",
              "      <td>0.034518</td>\n",
              "      <td>0.0</td>\n",
              "      <td>0.05093</td>\n",
              "      <td>...</td>\n",
              "      <td>0.0</td>\n",
              "      <td>0.0</td>\n",
              "      <td>0.031914</td>\n",
              "      <td>0.058090</td>\n",
              "      <td>0.049161</td>\n",
              "      <td>0.000000</td>\n",
              "      <td>0.0</td>\n",
              "      <td>0.421158</td>\n",
              "      <td>0.068648</td>\n",
              "      <td>0.000000</td>\n",
              "    </tr>\n",
              "    <tr>\n",
              "      <th>...</th>\n",
              "      <td>...</td>\n",
              "      <td>...</td>\n",
              "      <td>...</td>\n",
              "      <td>...</td>\n",
              "      <td>...</td>\n",
              "      <td>...</td>\n",
              "      <td>...</td>\n",
              "      <td>...</td>\n",
              "      <td>...</td>\n",
              "      <td>...</td>\n",
              "      <td>...</td>\n",
              "      <td>...</td>\n",
              "      <td>...</td>\n",
              "      <td>...</td>\n",
              "      <td>...</td>\n",
              "      <td>...</td>\n",
              "      <td>...</td>\n",
              "      <td>...</td>\n",
              "      <td>...</td>\n",
              "      <td>...</td>\n",
              "      <td>...</td>\n",
              "    </tr>\n",
              "    <tr>\n",
              "      <th>258116</th>\n",
              "      <td>0.0</td>\n",
              "      <td>0.0</td>\n",
              "      <td>0.000000</td>\n",
              "      <td>0.0</td>\n",
              "      <td>0.0</td>\n",
              "      <td>0.268642</td>\n",
              "      <td>0.0</td>\n",
              "      <td>0.000000</td>\n",
              "      <td>0.0</td>\n",
              "      <td>0.00000</td>\n",
              "      <td>...</td>\n",
              "      <td>0.0</td>\n",
              "      <td>0.0</td>\n",
              "      <td>0.154997</td>\n",
              "      <td>0.000000</td>\n",
              "      <td>0.000000</td>\n",
              "      <td>0.000000</td>\n",
              "      <td>0.0</td>\n",
              "      <td>0.000000</td>\n",
              "      <td>0.000000</td>\n",
              "      <td>0.000000</td>\n",
              "    </tr>\n",
              "    <tr>\n",
              "      <th>258117</th>\n",
              "      <td>0.0</td>\n",
              "      <td>0.0</td>\n",
              "      <td>0.000000</td>\n",
              "      <td>0.0</td>\n",
              "      <td>0.0</td>\n",
              "      <td>0.000000</td>\n",
              "      <td>0.0</td>\n",
              "      <td>0.000000</td>\n",
              "      <td>0.0</td>\n",
              "      <td>0.00000</td>\n",
              "      <td>...</td>\n",
              "      <td>0.0</td>\n",
              "      <td>0.0</td>\n",
              "      <td>0.000000</td>\n",
              "      <td>0.000000</td>\n",
              "      <td>0.000000</td>\n",
              "      <td>0.000000</td>\n",
              "      <td>0.0</td>\n",
              "      <td>0.000000</td>\n",
              "      <td>0.000000</td>\n",
              "      <td>0.000000</td>\n",
              "    </tr>\n",
              "    <tr>\n",
              "      <th>258118</th>\n",
              "      <td>0.0</td>\n",
              "      <td>0.0</td>\n",
              "      <td>0.000000</td>\n",
              "      <td>0.0</td>\n",
              "      <td>0.0</td>\n",
              "      <td>0.000000</td>\n",
              "      <td>0.0</td>\n",
              "      <td>0.000000</td>\n",
              "      <td>0.0</td>\n",
              "      <td>0.00000</td>\n",
              "      <td>...</td>\n",
              "      <td>0.0</td>\n",
              "      <td>0.0</td>\n",
              "      <td>0.000000</td>\n",
              "      <td>0.000000</td>\n",
              "      <td>0.000000</td>\n",
              "      <td>0.000000</td>\n",
              "      <td>0.0</td>\n",
              "      <td>0.000000</td>\n",
              "      <td>0.000000</td>\n",
              "      <td>0.000000</td>\n",
              "    </tr>\n",
              "    <tr>\n",
              "      <th>258120</th>\n",
              "      <td>0.0</td>\n",
              "      <td>0.0</td>\n",
              "      <td>0.097178</td>\n",
              "      <td>0.0</td>\n",
              "      <td>0.0</td>\n",
              "      <td>0.000000</td>\n",
              "      <td>0.0</td>\n",
              "      <td>0.000000</td>\n",
              "      <td>0.0</td>\n",
              "      <td>0.00000</td>\n",
              "      <td>...</td>\n",
              "      <td>0.0</td>\n",
              "      <td>0.0</td>\n",
              "      <td>0.000000</td>\n",
              "      <td>0.000000</td>\n",
              "      <td>0.000000</td>\n",
              "      <td>0.000000</td>\n",
              "      <td>0.0</td>\n",
              "      <td>0.000000</td>\n",
              "      <td>0.000000</td>\n",
              "      <td>0.000000</td>\n",
              "    </tr>\n",
              "    <tr>\n",
              "      <th>258121</th>\n",
              "      <td>0.0</td>\n",
              "      <td>0.0</td>\n",
              "      <td>0.000000</td>\n",
              "      <td>0.0</td>\n",
              "      <td>0.0</td>\n",
              "      <td>0.000000</td>\n",
              "      <td>0.0</td>\n",
              "      <td>0.000000</td>\n",
              "      <td>0.0</td>\n",
              "      <td>0.00000</td>\n",
              "      <td>...</td>\n",
              "      <td>0.0</td>\n",
              "      <td>0.0</td>\n",
              "      <td>0.000000</td>\n",
              "      <td>0.344286</td>\n",
              "      <td>0.194245</td>\n",
              "      <td>0.000000</td>\n",
              "      <td>0.0</td>\n",
              "      <td>0.000000</td>\n",
              "      <td>0.000000</td>\n",
              "      <td>0.000000</td>\n",
              "    </tr>\n",
              "  </tbody>\n",
              "</table>\n",
              "<p>206497 rows × 961 columns</p>\n",
              "</div>\n",
              "      <button class=\"colab-df-convert\" onclick=\"convertToInteractive('df-34af8fee-ef08-4aee-94f2-b7ffc48cac66')\"\n",
              "              title=\"Convert this dataframe to an interactive table.\"\n",
              "              style=\"display:none;\">\n",
              "        \n",
              "  <svg xmlns=\"http://www.w3.org/2000/svg\" height=\"24px\"viewBox=\"0 0 24 24\"\n",
              "       width=\"24px\">\n",
              "    <path d=\"M0 0h24v24H0V0z\" fill=\"none\"/>\n",
              "    <path d=\"M18.56 5.44l.94 2.06.94-2.06 2.06-.94-2.06-.94-.94-2.06-.94 2.06-2.06.94zm-11 1L8.5 8.5l.94-2.06 2.06-.94-2.06-.94L8.5 2.5l-.94 2.06-2.06.94zm10 10l.94 2.06.94-2.06 2.06-.94-2.06-.94-.94-2.06-.94 2.06-2.06.94z\"/><path d=\"M17.41 7.96l-1.37-1.37c-.4-.4-.92-.59-1.43-.59-.52 0-1.04.2-1.43.59L10.3 9.45l-7.72 7.72c-.78.78-.78 2.05 0 2.83L4 21.41c.39.39.9.59 1.41.59.51 0 1.02-.2 1.41-.59l7.78-7.78 2.81-2.81c.8-.78.8-2.07 0-2.86zM5.41 20L4 18.59l7.72-7.72 1.47 1.35L5.41 20z\"/>\n",
              "  </svg>\n",
              "      </button>\n",
              "      \n",
              "  <style>\n",
              "    .colab-df-container {\n",
              "      display:flex;\n",
              "      flex-wrap:wrap;\n",
              "      gap: 12px;\n",
              "    }\n",
              "\n",
              "    .colab-df-convert {\n",
              "      background-color: #E8F0FE;\n",
              "      border: none;\n",
              "      border-radius: 50%;\n",
              "      cursor: pointer;\n",
              "      display: none;\n",
              "      fill: #1967D2;\n",
              "      height: 32px;\n",
              "      padding: 0 0 0 0;\n",
              "      width: 32px;\n",
              "    }\n",
              "\n",
              "    .colab-df-convert:hover {\n",
              "      background-color: #E2EBFA;\n",
              "      box-shadow: 0px 1px 2px rgba(60, 64, 67, 0.3), 0px 1px 3px 1px rgba(60, 64, 67, 0.15);\n",
              "      fill: #174EA6;\n",
              "    }\n",
              "\n",
              "    [theme=dark] .colab-df-convert {\n",
              "      background-color: #3B4455;\n",
              "      fill: #D2E3FC;\n",
              "    }\n",
              "\n",
              "    [theme=dark] .colab-df-convert:hover {\n",
              "      background-color: #434B5C;\n",
              "      box-shadow: 0px 1px 3px 1px rgba(0, 0, 0, 0.15);\n",
              "      filter: drop-shadow(0px 1px 2px rgba(0, 0, 0, 0.3));\n",
              "      fill: #FFFFFF;\n",
              "    }\n",
              "  </style>\n",
              "\n",
              "      <script>\n",
              "        const buttonEl =\n",
              "          document.querySelector('#df-34af8fee-ef08-4aee-94f2-b7ffc48cac66 button.colab-df-convert');\n",
              "        buttonEl.style.display =\n",
              "          google.colab.kernel.accessAllowed ? 'block' : 'none';\n",
              "\n",
              "        async function convertToInteractive(key) {\n",
              "          const element = document.querySelector('#df-34af8fee-ef08-4aee-94f2-b7ffc48cac66');\n",
              "          const dataTable =\n",
              "            await google.colab.kernel.invokeFunction('convertToInteractive',\n",
              "                                                     [key], {});\n",
              "          if (!dataTable) return;\n",
              "\n",
              "          const docLinkHtml = 'Like what you see? Visit the ' +\n",
              "            '<a target=\"_blank\" href=https://colab.research.google.com/notebooks/data_table.ipynb>data table notebook</a>'\n",
              "            + ' to learn more about interactive tables.';\n",
              "          element.innerHTML = '';\n",
              "          dataTable['output_type'] = 'display_data';\n",
              "          await google.colab.output.renderOutput(dataTable, element);\n",
              "          const docLink = document.createElement('div');\n",
              "          docLink.innerHTML = docLinkHtml;\n",
              "          element.appendChild(docLink);\n",
              "        }\n",
              "      </script>\n",
              "    </div>\n",
              "  </div>\n",
              "  "
            ]
          },
          "metadata": {},
          "execution_count": 60
        }
      ]
    },
    {
      "cell_type": "code",
      "source": [
        "DIR"
      ],
      "metadata": {
        "colab": {
          "base_uri": "https://localhost:8080/",
          "height": 34
        },
        "id": "k6rdVjrdjD-Y",
        "outputId": "a75b17b6-7631-49f8-9639-abf709301f32"
      },
      "execution_count": 23,
      "outputs": [
        {
          "output_type": "execute_result",
          "data": {
            "text/plain": [
              "'/content/drive/MyDrive/music4all/'"
            ],
            "application/vnd.google.colaboratory.intrinsic+json": {
              "type": "string"
            }
          },
          "metadata": {},
          "execution_count": 23
        }
      ]
    },
    {
      "cell_type": "code",
      "source": [
        "#np.savetxt(DIR +\"TFIDF_kaggle_split0_epoch1.csv\", X_train_tfidf[ONE_SIZE*0:ONE_SIZE*1], delimiter=\",\")"
      ],
      "metadata": {
        "id": "SllFMIi9iqfu"
      },
      "execution_count": 27,
      "outputs": []
    },
    {
      "cell_type": "code",
      "source": [
        "type(X_train_tfidf)"
      ],
      "metadata": {
        "colab": {
          "base_uri": "https://localhost:8080/"
        },
        "id": "6sHMx41OiHqa",
        "outputId": "b5c834cc-8786-4243-b285-f597ecbb901c"
      },
      "execution_count": 25,
      "outputs": [
        {
          "output_type": "execute_result",
          "data": {
            "text/plain": [
              "numpy.ndarray"
            ]
          },
          "metadata": {},
          "execution_count": 25
        }
      ]
    },
    {
      "cell_type": "code",
      "source": [
        "X_train_tfidf[ONE_SIZE*0:ONE_SIZE*1].shape"
      ],
      "metadata": {
        "colab": {
          "base_uri": "https://localhost:8080/"
        },
        "id": "eOUZRBv7iL9L",
        "outputId": "b8ed0348-1f86-4781-c301-5502161b2a87"
      },
      "execution_count": 26,
      "outputs": [
        {
          "output_type": "execute_result",
          "data": {
            "text/plain": [
              "(20649, 10000)"
            ]
          },
          "metadata": {},
          "execution_count": 26
        }
      ]
    },
    {
      "cell_type": "code",
      "execution_count": null,
      "metadata": {
        "id": "f5DUOOcPICsr"
      },
      "outputs": [],
      "source": [
        "#organize X and y into completely 1/epoch scale to do incremental fit() by epoch times.\n",
        "for X_row, y_label in zip(df_X_train_tfidf, split0['y_train']):"
      ]
    },
    {
      "cell_type": "code",
      "execution_count": 63,
      "metadata": {
        "id": "KJpkOoWwITrM",
        "colab": {
          "base_uri": "https://localhost:8080/"
        },
        "outputId": "95312773-177a-449d-88d1-47fc7cfbb973"
      },
      "outputs": [
        {
          "output_type": "stream",
          "name": "stdout",
          "text": [
            "[(0, 86844), (1, 86844), (2, 86844), (3, 86844), (4, 86844), (5, 86844), (6, 86844), (7, 86844), (8, 86844), (9, 86844)]\n"
          ]
        }
      ],
      "source": [
        "X_resampled, y_resampled = SMOTE().fit_resample(df_X_train_tfidf.to_numpy(), split0['y_train']) \n",
        "print(sorted(Counter(y_resampled).items()))"
      ]
    },
    {
      "cell_type": "code",
      "source": [
        "clf_mnb_SMOTE = MultinomialNB().fit(X_resampled, y_resampled)\n",
        "\n",
        "predicted_mnb_SMOTE = clf_mnb_SMOTE.predict(X_test_tfidf)\n",
        "print(classification_report(split0['y_test'], predicted_mnb_SMOTE) )\n",
        "print(balanced_accuracy_score(split0['y_test'], predicted_mnb_SMOTE))"
      ],
      "metadata": {
        "colab": {
          "base_uri": "https://localhost:8080/"
        },
        "id": "ACLqup1Yl9GM",
        "outputId": "fc81f19f-22e5-4087-9b14-b36bae2dbaf3"
      },
      "execution_count": 64,
      "outputs": [
        {
          "output_type": "stream",
          "name": "stdout",
          "text": [
            "              precision    recall  f1-score   support\n",
            "\n",
            "           0       0.04      0.36      0.08       540\n",
            "           1       0.02      0.19      0.04       533\n",
            "           2       0.11      0.35      0.17      1732\n",
            "           3       0.09      0.69      0.16       640\n",
            "           4       0.07      0.23      0.11      1550\n",
            "           5       0.30      0.52      0.38      2794\n",
            "           6       0.33      0.64      0.44      3989\n",
            "           7       0.61      0.14      0.23     17481\n",
            "           8       0.03      0.38      0.06       655\n",
            "           9       0.65      0.11      0.18     21711\n",
            "\n",
            "    accuracy                           0.21     51625\n",
            "   macro avg       0.23      0.36      0.18     51625\n",
            "weighted avg       0.53      0.21      0.22     51625\n",
            "\n",
            "0.36123500697355354\n"
          ]
        }
      ]
    },
    {
      "cell_type": "markdown",
      "source": [
        "### KFold test"
      ],
      "metadata": {
        "id": "ehdCLExHqcRX"
      }
    },
    {
      "cell_type": "code",
      "source": [
        "del(split0)\n",
        "del(df_X_train_tfidf)\n",
        "del(X_resampled)\n",
        "del(y_resampled)"
      ],
      "metadata": {
        "id": "5f9zNiA2l6HF"
      },
      "execution_count": null,
      "outputs": []
    },
    {
      "cell_type": "code",
      "source": [
        "from nltk.corpus import words\n",
        "from sklearn.metrics import accuracy_score,classification_report\n",
        "from sklearn.feature_extraction.text import TfidfVectorizer\n",
        "from sklearn.naive_bayes import MultinomialNB\n",
        "from imblearn.over_sampling import SMOTE\n",
        "from sklearn.metrics import balanced_accuracy_score\n",
        "\n",
        "for i in range(0,5):\n",
        "  split0 = splits[i]\n",
        "  for i, token_list in split0['X_train'].items():\n",
        "    split0['X_train'][i] =  ' '.join(token_list)\n",
        "\n",
        "  for i, token_list in split0['X_test'].items():\n",
        "    split0['X_test'][i] =  ' '.join(token_list)\n",
        "\n",
        "  tfidf_vectorizer = TfidfVectorizer(analyzer=\"word\", stop_words='english', max_df=0.9, min_df=0.01)#max_features=10000\n",
        "  X_train_tfidf = tfidf_vectorizer.fit_transform(split0['X_train']).toarray()\n",
        "  X_test_tfidf = tfidf_vectorizer.transform(split0['X_test']).toarray()\n",
        "\n",
        "  df_X_train_tfidf = pd.DataFrame(X_train_tfidf\n",
        "                                ,index = split0['X_train'].index\n",
        "                              , columns=tfidf_vectorizer.get_feature_names())\n",
        "  del(X_train_tfidf)\n",
        "\n",
        "  X_resampled, y_resampled = SMOTE().fit_resample(df_X_train_tfidf.to_numpy(), split0['y_train']) \n",
        "  print(sorted(Counter(y_resampled).items()))\n",
        "\n",
        "  clf_mnb_SMOTE = MultinomialNB().fit(X_resampled, y_resampled)\n",
        "\n",
        "  predicted_mnb_SMOTE = clf_mnb_SMOTE.predict(X_test_tfidf)\n",
        "  print(classification_report(split0['y_test'], predicted_mnb_SMOTE) )\n",
        "  print(balanced_accuracy_score(split0['y_test'], predicted_mnb_SMOTE))\n",
        "\n",
        "  with open(DIR+ \"TFIDF_mnb_kaggle_log.txt\", \"a\") as f:\n",
        "    print(\"=========split: \" , i, \"=================\", file=f)\n",
        "    print(classification_report(split0['y_test'], predicted_mnb_SMOTE) , file = f)\n",
        "    print(balanced_accuracy_score(split0['y_test'], predicted_mnb_SMOTE) , file = f)\n",
        "\n",
        "\n",
        "  #---------------------------------\n",
        "  del(split0)\n",
        "  del(df_X_train_tfidf)\n",
        "  del(X_resampled)\n",
        "  del(y_resampled)\n"
      ],
      "metadata": {
        "colab": {
          "base_uri": "https://localhost:8080/"
        },
        "id": "u5ATTx1BqkVx",
        "outputId": "95736bb8-459f-48be-fd84-34dfc7976c5a"
      },
      "execution_count": 20,
      "outputs": [
        {
          "output_type": "stream",
          "name": "stderr",
          "text": [
            "/usr/local/lib/python3.7/dist-packages/sklearn/utils/deprecation.py:87: FutureWarning: Function get_feature_names is deprecated; get_feature_names is deprecated in 1.0 and will be removed in 1.2. Please use get_feature_names_out instead.\n",
            "  warnings.warn(msg, category=FutureWarning)\n"
          ]
        },
        {
          "output_type": "stream",
          "name": "stdout",
          "text": [
            "[(0, 86844), (1, 86844), (2, 86844), (3, 86844), (4, 86844), (5, 86844), (6, 86844), (7, 86844), (8, 86844), (9, 86844)]\n",
            "              precision    recall  f1-score   support\n",
            "\n",
            "           0       0.04      0.35      0.08       540\n",
            "           1       0.02      0.20      0.04       533\n",
            "           2       0.11      0.35      0.17      1732\n",
            "           3       0.09      0.69      0.16       640\n",
            "           4       0.07      0.23      0.11      1550\n",
            "           5       0.30      0.52      0.38      2794\n",
            "           6       0.33      0.65      0.44      3989\n",
            "           7       0.60      0.14      0.22     17481\n",
            "           8       0.03      0.37      0.06       655\n",
            "           9       0.64      0.10      0.18     21711\n",
            "\n",
            "    accuracy                           0.21     51625\n",
            "   macro avg       0.22      0.36      0.18     51625\n",
            "weighted avg       0.53      0.21      0.22     51625\n",
            "\n",
            "0.36059214466137496\n"
          ]
        },
        {
          "output_type": "stream",
          "name": "stderr",
          "text": [
            "/usr/local/lib/python3.7/dist-packages/sklearn/utils/deprecation.py:87: FutureWarning: Function get_feature_names is deprecated; get_feature_names is deprecated in 1.0 and will be removed in 1.2. Please use get_feature_names_out instead.\n",
            "  warnings.warn(msg, category=FutureWarning)\n"
          ]
        },
        {
          "output_type": "stream",
          "name": "stdout",
          "text": [
            "[(0, 86844), (1, 86844), (2, 86844), (3, 86844), (4, 86844), (5, 86844), (6, 86844), (7, 86844), (8, 86844), (9, 86844)]\n",
            "              precision    recall  f1-score   support\n",
            "\n",
            "           0       0.04      0.32      0.07       540\n",
            "           1       0.02      0.19      0.04       533\n",
            "           2       0.11      0.35      0.17      1732\n",
            "           3       0.09      0.68      0.15       640\n",
            "           4       0.07      0.23      0.11      1550\n",
            "           5       0.29      0.54      0.38      2795\n",
            "           6       0.33      0.64      0.44      3988\n",
            "           7       0.61      0.14      0.23     17481\n",
            "           8       0.03      0.35      0.06       655\n",
            "           9       0.64      0.11      0.18     21711\n",
            "\n",
            "    accuracy                           0.21     51625\n",
            "   macro avg       0.22      0.36      0.18     51625\n",
            "weighted avg       0.52      0.21      0.22     51625\n",
            "\n",
            "0.35513757111093797\n"
          ]
        },
        {
          "output_type": "stream",
          "name": "stderr",
          "text": [
            "/usr/local/lib/python3.7/dist-packages/sklearn/utils/deprecation.py:87: FutureWarning: Function get_feature_names is deprecated; get_feature_names is deprecated in 1.0 and will be removed in 1.2. Please use get_feature_names_out instead.\n",
            "  warnings.warn(msg, category=FutureWarning)\n"
          ]
        },
        {
          "output_type": "stream",
          "name": "stdout",
          "text": [
            "[(0, 86844), (1, 86844), (2, 86844), (3, 86844), (4, 86844), (5, 86844), (6, 86844), (7, 86844), (8, 86844), (9, 86844)]\n",
            "              precision    recall  f1-score   support\n",
            "\n",
            "           0       0.04      0.34      0.07       540\n",
            "           1       0.02      0.17      0.04       532\n",
            "           2       0.11      0.36      0.17      1732\n",
            "           3       0.09      0.72      0.16       640\n",
            "           4       0.07      0.22      0.11      1550\n",
            "           5       0.30      0.54      0.38      2795\n",
            "           6       0.33      0.62      0.43      3988\n",
            "           7       0.61      0.14      0.23     17481\n",
            "           8       0.03      0.37      0.06       655\n",
            "           9       0.63      0.10      0.18     21711\n",
            "\n",
            "    accuracy                           0.21     51624\n",
            "   macro avg       0.22      0.36      0.18     51624\n",
            "weighted avg       0.52      0.21      0.22     51624\n",
            "\n",
            "0.35944450512057063\n"
          ]
        },
        {
          "output_type": "stream",
          "name": "stderr",
          "text": [
            "/usr/local/lib/python3.7/dist-packages/sklearn/utils/deprecation.py:87: FutureWarning: Function get_feature_names is deprecated; get_feature_names is deprecated in 1.0 and will be removed in 1.2. Please use get_feature_names_out instead.\n",
            "  warnings.warn(msg, category=FutureWarning)\n"
          ]
        },
        {
          "output_type": "stream",
          "name": "stdout",
          "text": [
            "[(0, 86844), (1, 86844), (2, 86844), (3, 86844), (4, 86844), (5, 86844), (6, 86844), (7, 86844), (8, 86844), (9, 86844)]\n",
            "              precision    recall  f1-score   support\n",
            "\n",
            "           0       0.04      0.32      0.07       540\n",
            "           1       0.02      0.18      0.04       533\n",
            "           2       0.11      0.37      0.17      1732\n",
            "           3       0.09      0.70      0.16       639\n",
            "           4       0.07      0.21      0.10      1550\n",
            "           5       0.31      0.54      0.39      2795\n",
            "           6       0.33      0.63      0.43      3989\n",
            "           7       0.62      0.15      0.24     17481\n",
            "           8       0.04      0.43      0.07       654\n",
            "           9       0.63      0.10      0.18     21711\n",
            "\n",
            "    accuracy                           0.21     51624\n",
            "   macro avg       0.23      0.36      0.19     51624\n",
            "weighted avg       0.52      0.21      0.22     51624\n",
            "\n",
            "0.3631816947550563\n"
          ]
        },
        {
          "output_type": "stream",
          "name": "stderr",
          "text": [
            "/usr/local/lib/python3.7/dist-packages/sklearn/utils/deprecation.py:87: FutureWarning: Function get_feature_names is deprecated; get_feature_names is deprecated in 1.0 and will be removed in 1.2. Please use get_feature_names_out instead.\n",
            "  warnings.warn(msg, category=FutureWarning)\n"
          ]
        },
        {
          "output_type": "stream",
          "name": "stdout",
          "text": [
            "[(0, 86844), (1, 86844), (2, 86844), (3, 86844), (4, 86844), (5, 86844), (6, 86844), (7, 86844), (8, 86844), (9, 86844)]\n",
            "              precision    recall  f1-score   support\n",
            "\n",
            "           0       0.04      0.34      0.07       540\n",
            "           1       0.02      0.17      0.04       533\n",
            "           2       0.11      0.37      0.17      1732\n",
            "           3       0.09      0.68      0.15       639\n",
            "           4       0.07      0.22      0.10      1550\n",
            "           5       0.29      0.52      0.37      2795\n",
            "           6       0.33      0.62      0.43      3989\n",
            "           7       0.61      0.14      0.23     17481\n",
            "           8       0.03      0.37      0.06       654\n",
            "           9       0.63      0.10      0.18     21711\n",
            "\n",
            "    accuracy                           0.20     51624\n",
            "   macro avg       0.22      0.35      0.18     51624\n",
            "weighted avg       0.52      0.20      0.22     51624\n",
            "\n",
            "0.35321011511894423\n"
          ]
        }
      ]
    },
    {
      "cell_type": "markdown",
      "source": [
        "take mean"
      ],
      "metadata": {
        "id": "E1Dnpnzwz8mC"
      }
    },
    {
      "cell_type": "code",
      "source": [
        "balanced_acc = []\n",
        "balanced_acc.append(0.36059214466137496)\n",
        "balanced_acc.append(0.35513757111093797)\n",
        "balanced_acc.append(0.35944450512057063)\n",
        "balanced_acc.append(0.3631816947550563)\n",
        "balanced_acc.append(0.35321011511894423)\n",
        "\n",
        "print(sum(balanced_acc)/5 )"
      ],
      "metadata": {
        "colab": {
          "base_uri": "https://localhost:8080/"
        },
        "id": "nvtsGE-bz9ai",
        "outputId": "497d95a0-6ad2-47ae-a16b-9c2481be489b"
      },
      "execution_count": 21,
      "outputs": [
        {
          "output_type": "stream",
          "name": "stdout",
          "text": [
            "0.3583132061533768\n"
          ]
        }
      ]
    },
    {
      "cell_type": "markdown",
      "source": [
        "### Save models"
      ],
      "metadata": {
        "id": "iaXRuPjH0kkP"
      }
    },
    {
      "cell_type": "code",
      "source": [
        "DIR"
      ],
      "metadata": {
        "colab": {
          "base_uri": "https://localhost:8080/",
          "height": 34
        },
        "id": "pCXhZ2YC00Ny",
        "outputId": "b87c86d0-15f3-4f10-d9b8-b9f363939da8"
      },
      "execution_count": 22,
      "outputs": [
        {
          "output_type": "execute_result",
          "data": {
            "text/plain": [
              "'/content/drive/MyDrive/music4all/'"
            ],
            "application/vnd.google.colaboratory.intrinsic+json": {
              "type": "string"
            }
          },
          "metadata": {},
          "execution_count": 22
        }
      ]
    },
    {
      "cell_type": "code",
      "source": [
        "import pickle\n",
        "filename = DIR + 'TFIDF_MNB_kaggle_split4.sav'\n",
        "pickle.dump(clf_mnb_SMOTE, open(filename, 'wb'))"
      ],
      "metadata": {
        "id": "bhgz6Gm-0lhg"
      },
      "execution_count": 23,
      "outputs": []
    },
    {
      "cell_type": "markdown",
      "source": [
        "Check if loading a classifier is working"
      ],
      "metadata": {
        "id": "SrxOHOJu1Qn3"
      }
    },
    {
      "cell_type": "code",
      "source": [
        "loaded_model = pickle.load(open(filename, 'rb'))"
      ],
      "metadata": {
        "id": "_tsISCJ21H6Z"
      },
      "execution_count": 24,
      "outputs": []
    },
    {
      "cell_type": "markdown",
      "source": [
        "Save the first fold clf"
      ],
      "metadata": {
        "id": "lrUwnMRA3BC3"
      }
    },
    {
      "cell_type": "code",
      "source": [
        "split0 = splits[0]\n",
        "for i, token_list in split0['X_train'].items():\n",
        "  split0['X_train'][i] =  ' '.join(token_list)\n",
        "\n",
        "for i, token_list in split0['X_test'].items():\n",
        "  split0['X_test'][i] =  ' '.join(token_list)\n",
        "\n",
        "tfidf_vectorizer = TfidfVectorizer(analyzer=\"word\", stop_words='english', max_df=0.9, min_df=0.01)#max_features=10000\n",
        "X_train_tfidf = tfidf_vectorizer.fit_transform(split0['X_train']).toarray()\n",
        "X_test_tfidf = tfidf_vectorizer.transform(split0['X_test']).toarray()\n",
        "\n",
        "df_X_train_tfidf = pd.DataFrame(X_train_tfidf\n",
        "                              ,index = split0['X_train'].index\n",
        "                            , columns=tfidf_vectorizer.get_feature_names())\n",
        "del(X_train_tfidf)\n",
        "\n",
        "X_resampled, y_resampled = SMOTE().fit_resample(df_X_train_tfidf.to_numpy(), split0['y_train']) \n",
        "print(sorted(Counter(y_resampled).items()))\n",
        "\n",
        "clf_mnb_SMOTE = MultinomialNB().fit(X_resampled, y_resampled)"
      ],
      "metadata": {
        "colab": {
          "base_uri": "https://localhost:8080/"
        },
        "id": "Iu6Aoi_11QJc",
        "outputId": "e1a3c637-15d6-472a-c1ef-35eeb6c237dd"
      },
      "execution_count": 45,
      "outputs": [
        {
          "output_type": "stream",
          "name": "stderr",
          "text": [
            "/usr/local/lib/python3.7/dist-packages/sklearn/utils/deprecation.py:87: FutureWarning: Function get_feature_names is deprecated; get_feature_names is deprecated in 1.0 and will be removed in 1.2. Please use get_feature_names_out instead.\n",
            "  warnings.warn(msg, category=FutureWarning)\n"
          ]
        },
        {
          "output_type": "stream",
          "name": "stdout",
          "text": [
            "[(0, 86844), (1, 86844), (2, 86844), (3, 86844), (4, 86844), (5, 86844), (6, 86844), (7, 86844), (8, 86844), (9, 86844)]\n"
          ]
        }
      ]
    },
    {
      "cell_type": "code",
      "source": [
        "import pickle\n",
        "filename = DIR + 'TFIDF_MNB_kaggle_split0.sav'\n",
        "pickle.dump(clf_mnb_SMOTE, open(filename, 'wb'))"
      ],
      "metadata": {
        "id": "m1A-lDxJ3e77"
      },
      "execution_count": 46,
      "outputs": []
    }
  ],
  "metadata": {
    "colab": {
      "background_execution": "on",
      "collapsed_sections": [
        "DWL5DlwVTHgV",
        "hWxfNJqYBfjD",
        "dYBCsVliropt"
      ],
      "machine_shape": "hm",
      "provenance": [],
      "mount_file_id": "1-YX5ZVYdIwjHcT4lAXAywY52V7CsFR1t",
      "authorship_tag": "ABX9TyP3cratLn8yq4ej205hj/2m",
      "include_colab_link": true
    },
    "gpuClass": "standard",
    "kernelspec": {
      "display_name": "Python 3",
      "name": "python3"
    },
    "language_info": {
      "name": "python"
    }
  },
  "nbformat": 4,
  "nbformat_minor": 0
}